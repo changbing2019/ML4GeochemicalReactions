{
 "cells": [
  {
   "cell_type": "code",
   "execution_count": 1,
   "id": "372452d9-61bf-4f3a-889d-e882c8bc630a",
   "metadata": {},
   "outputs": [],
   "source": [
    "import pickle"
   ]
  },
  {
   "cell_type": "code",
   "execution_count": 2,
   "id": "b9eb22aa-32a2-459b-a631-4883eef866fe",
   "metadata": {},
   "outputs": [],
   "source": [
    "import matplotlib.pyplot as plt\n",
    "import matplotlib as mpl\n",
    "\n",
    "import numpy as np\n",
    "%matplotlib inline\n",
    "import pandas as pd"
   ]
  },
  {
   "cell_type": "code",
   "execution_count": 3,
   "id": "1a08a9d5-8101-43f1-998c-e1222ed6be70",
   "metadata": {},
   "outputs": [],
   "source": [
    "import os, glob\n",
    "import seaborn as sns\n",
    "sns.set(style=\"darkgrid\")"
   ]
  },
  {
   "cell_type": "code",
   "execution_count": 4,
   "id": "b563500e-4f3a-45c3-be9a-14d76e59d501",
   "metadata": {},
   "outputs": [],
   "source": [
    "from IPython.display import display, HTML, Image"
   ]
  },
  {
   "cell_type": "code",
   "execution_count": 5,
   "id": "bd2300ed-d856-4150-aaf6-2e208ca6f224",
   "metadata": {},
   "outputs": [],
   "source": [
    "import plotly\n",
    "import plotly.express as px\n",
    "import plotly.graph_objects as go"
   ]
  },
  {
   "cell_type": "code",
   "execution_count": null,
   "id": "c1f6beca",
   "metadata": {},
   "outputs": [],
   "source": []
  },
  {
   "cell_type": "code",
   "execution_count": 6,
   "id": "02a8e8eb-a986-4062-8759-74e51b8a2b89",
   "metadata": {},
   "outputs": [],
   "source": [
    "#data5H =pd.read_csv('15_PCc_02_LHS_500_54854_01_s1_G.csv')\n",
    "data50K =pd.read_csv('20_MC_02_LHS_50000_54854_01_s1_G.csv')\n",
    "#data50K =pd.read_csv('15_PCc_02_LHS_50000_54854_01_s1_G.csv')\n",
    "#data5k =pd.read_csv(r'F:\\ML4ChemcialReactions\\chemical5K\\10_PC_02_LHS_5000_54854_01_s1_G.csv')\n"
   ]
  },
  {
   "cell_type": "code",
   "execution_count": 7,
   "id": "7b6ece0e-7aa0-41b0-8120-d41637ccdc74",
   "metadata": {},
   "outputs": [],
   "source": [
    "### Remove the space from the column names\n",
    "#data5H.columns =[col.strip() for col in data5H.columns]\n",
    "data50K.columns =[col.strip() for col in data50K.columns]\n",
    "#data50K.columns =[col.strip() for col in data50K.columns]\n",
    "\n"
   ]
  },
  {
   "cell_type": "code",
   "execution_count": 9,
   "id": "763e21a9-e47c-4b95-880d-39b1873faee5",
   "metadata": {},
   "outputs": [
    {
     "data": {
      "text/plain": [
       "Index(['T', 'CaO', 'SiO2', 'Al2O3', 'H2O', 'pH', 'MassWater', 'Ca_aq', 'Si_aq',\n",
       "       'Al_aq', 'O_aq', 'H_aq', 'Ca_s', 'Si_s', 'Al_s', 'O_s', 'H_s',\n",
       "       'Portlandite', 'AmorfSi', 'Gibbsite', 'Katoite', 'Straetlingite',\n",
       "       'Chabazite', 'mCSHQ', 'Ca_ss', 'Si_ss', 'H2O_ss', 'V_s', 'Gel_water'],\n",
       "      dtype='object')"
      ]
     },
     "execution_count": 9,
     "metadata": {},
     "output_type": "execute_result"
    }
   ],
   "source": [
    "data50K.columns"
   ]
  },
  {
   "cell_type": "markdown",
   "id": "5124c89e",
   "metadata": {},
   "source": [
    "## Label the dataset based on the minerals"
   ]
  },
  {
   "cell_type": "code",
   "execution_count": 10,
   "id": "49c3c02d",
   "metadata": {},
   "outputs": [],
   "source": [
    "for mineral in ['Portlandite', 'AmorfSi', 'Gibbsite', 'Katoite', 'Straetlingite',\n",
    "       'Chabazite',]:\n",
    "    conditions = [\n",
    "         (data50K[mineral]>0),\n",
    "         (data50K[mineral]==0)] \n",
    "    values = [mineral, 'No'+mineral]\n",
    "    data50K[mineral+'_stat'] = np.select(conditions, values)    \n",
    "         \n",
    "    "
   ]
  },
  {
   "cell_type": "code",
   "execution_count": 11,
   "id": "f8971ad5",
   "metadata": {},
   "outputs": [],
   "source": [
    "colStats= [col for col in data50K.columns if '_stat' in col]\n",
    "data50K['group'] = data50K[colStats].agg('-'.join, axis=1)"
   ]
  },
  {
   "cell_type": "code",
   "execution_count": 12,
   "id": "893002d0",
   "metadata": {},
   "outputs": [
    {
     "data": {
      "text/plain": [
       "array(['Portlandite-NoAmorfSi-NoGibbsite-Katoite-NoStraetlingite-NoChabazite',\n",
       "       'NoPortlandite-NoAmorfSi-NoGibbsite-NoKatoite-Straetlingite-NoChabazite',\n",
       "       'NoPortlandite-NoAmorfSi-NoGibbsite-Katoite-Straetlingite-NoChabazite',\n",
       "       'NoPortlandite-NoAmorfSi-NoGibbsite-Katoite-NoStraetlingite-NoChabazite'],\n",
       "      dtype=object)"
      ]
     },
     "execution_count": 12,
     "metadata": {},
     "output_type": "execute_result"
    }
   ],
   "source": [
    "data50K['group'].unique()"
   ]
  },
  {
   "cell_type": "markdown",
   "id": "62b0c159",
   "metadata": {},
   "source": [
    "## Supervised grouping with ML models"
   ]
  },
  {
   "cell_type": "code",
   "execution_count": 13,
   "id": "3333dd54",
   "metadata": {},
   "outputs": [],
   "source": [
    "from sklearn.ensemble import RandomForestClassifier\n",
    "from sklearn.model_selection import train_test_split"
   ]
  },
  {
   "cell_type": "code",
   "execution_count": 14,
   "id": "c3ed1210",
   "metadata": {},
   "outputs": [],
   "source": [
    "# metrics are used to find accuracy or error\n",
    "from sklearn import metrics \n",
    "from sklearn.preprocessing import StandardScaler"
   ]
  },
  {
   "cell_type": "code",
   "execution_count": 15,
   "id": "f02d5a76",
   "metadata": {},
   "outputs": [
    {
     "data": {
      "text/plain": [
       "Index(['T', 'CaO', 'SiO2', 'Al2O3', 'H2O', 'pH', 'MassWater', 'Ca_aq', 'Si_aq',\n",
       "       'Al_aq', 'O_aq', 'H_aq', 'Ca_s', 'Si_s', 'Al_s', 'O_s', 'H_s',\n",
       "       'Portlandite', 'AmorfSi', 'Gibbsite', 'Katoite', 'Straetlingite',\n",
       "       'Chabazite', 'mCSHQ', 'Ca_ss', 'Si_ss', 'H2O_ss', 'V_s', 'Gel_water',\n",
       "       'Portlandite_stat', 'AmorfSi_stat', 'Gibbsite_stat', 'Katoite_stat',\n",
       "       'Straetlingite_stat', 'Chabazite_stat', 'group'],\n",
       "      dtype='object')"
      ]
     },
     "execution_count": 15,
     "metadata": {},
     "output_type": "execute_result"
    }
   ],
   "source": [
    "data50K.columns"
   ]
  },
  {
   "cell_type": "code",
   "execution_count": 16,
   "id": "c69634a6",
   "metadata": {},
   "outputs": [],
   "source": [
    "inputVars= ['CaO', 'SiO2', 'Al2O3', 'H2O']\n",
    "targVars = ['group']"
   ]
  },
  {
   "cell_type": "code",
   "execution_count": 17,
   "id": "25574143",
   "metadata": {},
   "outputs": [],
   "source": [
    "X = data50K[inputVars].values\n",
    "y = data50K[targVars].values"
   ]
  },
  {
   "cell_type": "code",
   "execution_count": 18,
   "id": "5114a21f",
   "metadata": {},
   "outputs": [],
   "source": [
    "scaler = StandardScaler().fit(X)\n",
    "X_scaled =  scaler.transform(X)"
   ]
  },
  {
   "cell_type": "code",
   "execution_count": 19,
   "id": "298fbbf5",
   "metadata": {},
   "outputs": [],
   "source": [
    "# i.e. 80 % training dataset and 20 % test datasets\n",
    "X_train, X_test, y_train, y_test = train_test_split(X_scaled, y, test_size = 0.20)"
   ]
  },
  {
   "cell_type": "code",
   "execution_count": null,
   "id": "c8240063",
   "metadata": {},
   "outputs": [],
   "source": []
  },
  {
   "cell_type": "code",
   "execution_count": null,
   "id": "f2c3b334",
   "metadata": {},
   "outputs": [],
   "source": [
    "# creating a RF classifier\n",
    "clf = RandomForestClassifier(n_estimators = 2000) \n",
    " \n",
    "# Training the model on the training dataset\n",
    "# fit function is used to train the model using the training sets as parameters\n",
    "clf.fit(X_train, y_train.ravel())\n",
    " \n",
    "# performing predictions on the test dataset\n",
    "y_pred = clf.predict(X_test)\n",
    " \n",
    "\n",
    "print(\"ACCURACY OF THE MODEL: \", metrics.accuracy_score(y_test, y_pred))"
   ]
  },
  {
   "cell_type": "code",
   "execution_count": null,
   "id": "35abc276",
   "metadata": {},
   "outputs": [],
   "source": [
    "\n"
   ]
  },
  {
   "cell_type": "raw",
   "id": "463e0d56",
   "metadata": {},
   "source": [
    "\n",
    "fig =px.scatter_ternary(X_test, a=\"CaO\", b=\"SiO2\", c=\"CO2\",color='group')\n",
    "fig.show()"
   ]
  },
  {
   "cell_type": "raw",
   "id": "7463e706",
   "metadata": {},
   "source": [
    "fig =px.scatter_ternary(X_test, a=\"CaO\", b=\"SiO2\", c=\"CO2\",color='pred')\n",
    "fig.show()"
   ]
  },
  {
   "cell_type": "code",
   "execution_count": null,
   "id": "efb8f310",
   "metadata": {},
   "outputs": [],
   "source": []
  },
  {
   "cell_type": "code",
   "execution_count": null,
   "id": "30fd1c47",
   "metadata": {},
   "outputs": [],
   "source": []
  },
  {
   "cell_type": "code",
   "execution_count": null,
   "id": "f745bdab",
   "metadata": {},
   "outputs": [],
   "source": []
  },
  {
   "cell_type": "code",
   "execution_count": null,
   "id": "a316659b",
   "metadata": {},
   "outputs": [],
   "source": []
  },
  {
   "cell_type": "code",
   "execution_count": null,
   "id": "f34f9bcf",
   "metadata": {},
   "outputs": [],
   "source": []
  },
  {
   "cell_type": "code",
   "execution_count": null,
   "id": "07032b8f",
   "metadata": {},
   "outputs": [],
   "source": []
  }
 ],
 "metadata": {
  "kernelspec": {
   "display_name": "Python 3 (ipykernel)",
   "language": "python",
   "name": "python3"
  },
  "language_info": {
   "codemirror_mode": {
    "name": "ipython",
    "version": 3
   },
   "file_extension": ".py",
   "mimetype": "text/x-python",
   "name": "python",
   "nbconvert_exporter": "python",
   "pygments_lexer": "ipython3",
   "version": "3.9.13"
  }
 },
 "nbformat": 4,
 "nbformat_minor": 5
}
