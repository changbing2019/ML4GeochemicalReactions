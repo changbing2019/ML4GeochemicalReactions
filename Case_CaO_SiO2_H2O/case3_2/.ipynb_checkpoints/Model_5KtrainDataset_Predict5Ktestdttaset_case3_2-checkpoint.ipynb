{
 "cells": [
  {
   "cell_type": "code",
   "execution_count": 5,
   "id": "9bd4b688",
   "metadata": {
    "scrolled": false
   },
   "outputs": [],
   "source": [
    "import pickle\n",
    "import numpy as np\n",
    "import pandas as pd\n",
    "import os, glob\n",
    "import seaborn as sns\n",
    "from sklearn.model_selection import cross_val_score\n",
    "from sklearn.model_selection import RepeatedKFold, cross_validate\n",
    "from sklearn.model_selection import train_test_split\n",
    "import lightgbm as lgb\n",
    "from sklearn.metrics import r2_score\n",
    "from sklearn.metrics import mean_squared_error\n",
    "\n",
    "## The following are the ML models which can be used for trasinning\n",
    "from sklearn.model_selection import RandomizedSearchCV\n",
    "from sklearn.neural_network import MLPRegressor\n",
    "from sklearn.ensemble import RandomForestRegressor,  GradientBoostingRegressor\n",
    "from xgboost import XGBRegressor\n",
    "from lightgbm import LGBMRegressor\n",
    "from sklearn.gaussian_process import GaussianProcessRegressor\n",
    "from sklearn.gaussian_process.kernels import Matern\n",
    "from sklearn.linear_model import LinearRegression\n",
    "\n",
    "from sklearn.preprocessing import MinMaxScaler,StandardScaler\n",
    "\n",
    "import timeit\n",
    "import warnings\n",
    "warnings.filterwarnings(\"ignore\")\n"
   ]
  },
  {
   "cell_type": "code",
   "execution_count": 6,
   "id": "166ccab7",
   "metadata": {
    "scrolled": false
   },
   "outputs": [],
   "source": [
    "import matplotlib.pyplot as plt\n",
    "import matplotlib as mpl\n",
    "\n",
    "import numpy as np\n",
    "%matplotlib inline\n",
    "import pandas as pd"
   ]
  },
  {
   "cell_type": "code",
   "execution_count": 7,
   "id": "bbca8f5d",
   "metadata": {
    "scrolled": false
   },
   "outputs": [],
   "source": [
    "import seaborn as sns\n",
    "sns.set(style=\"darkgrid\")"
   ]
  },
  {
   "cell_type": "code",
   "execution_count": 8,
   "id": "c59e722a",
   "metadata": {
    "scrolled": false
   },
   "outputs": [],
   "source": [
    "sns.set_context('talk')"
   ]
  },
  {
   "cell_type": "code",
   "execution_count": 9,
   "id": "bc20df9e",
   "metadata": {
    "scrolled": false
   },
   "outputs": [],
   "source": [
    "from IPython.display import display, HTML, Image"
   ]
  },
  {
   "cell_type": "code",
   "execution_count": 10,
   "id": "9d922587",
   "metadata": {
    "scrolled": false
   },
   "outputs": [],
   "source": [
    "import matplotlib.colors as mcolors"
   ]
  },
  {
   "cell_type": "code",
   "execution_count": null,
   "id": "e12d4093",
   "metadata": {
    "scrolled": false
   },
   "outputs": [],
   "source": []
  },
  {
   "cell_type": "code",
   "execution_count": 11,
   "id": "52f6267a",
   "metadata": {
    "scrolled": false
   },
   "outputs": [],
   "source": [
    "dataFolder = os.getcwd()"
   ]
  },
  {
   "cell_type": "code",
   "execution_count": 12,
   "id": "611f13d5",
   "metadata": {
    "scrolled": false
   },
   "outputs": [],
   "source": [
    "group1_low =1.634\n",
    "group2_low =0.673\n",
    "group2_upper =1.634\n",
    "group3_upper =0.673"
   ]
  },
  {
   "cell_type": "code",
   "execution_count": 13,
   "id": "e90cd906",
   "metadata": {
    "scrolled": false
   },
   "outputs": [],
   "source": [
    "## read the test file\n",
    "data =pd.read_csv(os.path.join(dataFolder,'dataset5K_test.csv'))\n",
    "data.columns =[col.strip() for col in data.columns]\n",
    "data['ratio'] = data['b(CaO)']/data['b(SiO2)']\n",
    "group1 = data[data['ratio']>=group1_low]  # with Portlandite, no Amor-S1\n",
    "group2 = data[(data['ratio']<=group2_upper) & (data['ratio']>=group2_low)]  # no Portlandite, no Amor-S1\n",
    "group3 = data[data['ratio']<=group3_upper]     # no Portlandite, with Amor-S1\n",
    "groups = [group1,group2,group3]\n",
    "dataCols = data.columns"
   ]
  },
  {
   "cell_type": "code",
   "execution_count": 14,
   "id": "356775a2",
   "metadata": {},
   "outputs": [],
   "source": [
    "## Read the scaler file\n",
    "\n",
    "scaler = pickle.load(open('scalernew.pkl', 'rb'))\n",
    "scalerSi = pickle.load(open('scalerSinew.pkl', 'rb'))\n"
   ]
  },
  {
   "cell_type": "code",
   "execution_count": null,
   "id": "c406a8fd",
   "metadata": {},
   "outputs": [],
   "source": []
  },
  {
   "cell_type": "code",
   "execution_count": 15,
   "id": "9d8ba50f",
   "metadata": {},
   "outputs": [
    {
     "data": {
      "text/plain": [
       "{'with_mean': True,\n",
       " 'with_std': True,\n",
       " 'copy': True,\n",
       " 'feature_names_in_': array(['b(CaO)', 'b(SiO2)', 'b(H2O)'], dtype=object),\n",
       " 'n_features_in_': 3,\n",
       " 'n_samples_seen_': 5005,\n",
       " 'mean_': array([0.94967692, 0.44993281, 5.5505128 ]),\n",
       " 'var_': array([0.24073308, 0.02083087, 2.56749708]),\n",
       " 'scale_': array([0.49064558, 0.14432904, 1.60234113])}"
      ]
     },
     "execution_count": 15,
     "metadata": {},
     "output_type": "execute_result"
    }
   ],
   "source": [
    "scaler.__dict__"
   ]
  },
  {
   "cell_type": "code",
   "execution_count": 16,
   "id": "23645d46",
   "metadata": {},
   "outputs": [
    {
     "data": {
      "text/plain": [
       "{'with_mean': True,\n",
       " 'with_std': True,\n",
       " 'copy': True,\n",
       " 'feature_names_in_': array(['b(CaO)', 'b(SiO2)', 'b(H2O)', 'pH'], dtype=object),\n",
       " 'n_features_in_': 4,\n",
       " 'n_samples_seen_': 5005,\n",
       " 'mean_': array([ 0.94967692,  0.44993281,  5.5505128 , 11.97808991]),\n",
       " 'var_': array([0.24073308, 0.02083087, 2.56749708, 0.78589797]),\n",
       " 'scale_': array([0.49064558, 0.14432904, 1.60234113, 0.88650886])}"
      ]
     },
     "execution_count": 16,
     "metadata": {},
     "output_type": "execute_result"
    }
   ],
   "source": [
    "scalerSi.__dict__"
   ]
  },
  {
   "cell_type": "code",
   "execution_count": null,
   "id": "c56b9d53",
   "metadata": {},
   "outputs": [],
   "source": []
  },
  {
   "cell_type": "code",
   "execution_count": null,
   "id": "dfc65f2d",
   "metadata": {},
   "outputs": [],
   "source": []
  },
  {
   "cell_type": "code",
   "execution_count": 17,
   "id": "7cefa509",
   "metadata": {},
   "outputs": [],
   "source": [
    "modelSummary={'GPyModel':'ModelTrainSummary.csv'}"
   ]
  },
  {
   "cell_type": "code",
   "execution_count": null,
   "id": "4686c8f7",
   "metadata": {
    "scrolled": false
   },
   "outputs": [],
   "source": []
  },
  {
   "cell_type": "code",
   "execution_count": 18,
   "id": "2e0af0d0",
   "metadata": {
    "scrolled": true
   },
   "outputs": [],
   "source": [
    "## read trained Model info:\n",
    "def getReadyModelInfo(dataFolder,fileNameModelSummary,dataCols):\n",
    "    \n",
    "    modelInfo =pd.read_csv(os.path.join(dataFolder,fileNameModelSummary))\n",
    "    \n",
    "    modelInfo = modelInfo.iloc[:,1:4]\n",
    "    ## load the mdoels\n",
    "    dataCols = data.columns.to_list()\n",
    "    modelsLst = []\n",
    "    for irow,row in modelInfo.iterrows():\n",
    "        group = row['group']\n",
    "        var =row['var']\n",
    "        modelType = row['modelType']\n",
    "        icol =dataCols.index(var)\n",
    "        if '/' in var:\n",
    "            fileCol = var.replace(\"/\",'')\n",
    "        else:\n",
    "            fileCol = var            \n",
    "    \n",
    "        modelFolder = os.path.join(dataFolder,'SavedModel',group)\n",
    "        if modelType=='CONST':\n",
    "            ext = '.csv'\n",
    "            fileName = os.path.join(modelFolder,modelType +'_'+fileCol+ext)\n",
    "            tempModel =pd.read_csv(fileName)\n",
    "        else:\n",
    "            ext ='.sav'\n",
    "            fileName = os.path.join(modelFolder,modelType +'_'+fileCol+ext)\n",
    "            tempModel = pickle.load(open(fileName, 'rb'))\n",
    "        \n",
    "        modelsLst.append(tempModel)\n",
    "    \n",
    "    modelInfo['modelObj'] = modelsLst \n",
    "    \n",
    "    return modelInfo"
   ]
  },
  {
   "cell_type": "code",
   "execution_count": 19,
   "id": "a340809e",
   "metadata": {
    "scrolled": true
   },
   "outputs": [],
   "source": [
    "inputColNames =['b(CaO)','b(SiO2)','b(H2O)']\n",
    "inputColAqSiNames =['b(CaO)','b(SiO2)','b(H2O)','pH']    \n"
   ]
  },
  {
   "cell_type": "code",
   "execution_count": 20,
   "id": "96820fef",
   "metadata": {
    "scrolled": false
   },
   "outputs": [],
   "source": [
    "finalDF = pd.DataFrame()\n",
    "for ML,modelSummaryCsv in modelSummary.items():\n",
    "    tempModelInfo = getReadyModelInfo(dataFolder,modelSummaryCsv,dataCols)\n",
    "    for col in ['pH','nSi(aq)']: #group1.columns[4:-1]:  # exclude 'ratio' \n",
    "        colModelInfo = tempModelInfo[tempModelInfo['var'] == col]  \n",
    "        \n",
    "        for i, group in enumerate(groups):\n",
    "        \n",
    "            dataX = group.loc[:,inputColNames]    \n",
    "            dataY = group[col].values\n",
    "            groupModelInfo = colModelInfo[colModelInfo['group'] =='group'+str(i+1)]\n",
    "            modelType = groupModelInfo['modelType'].values[0]\n",
    "            model = groupModelInfo['modelObj'].values[0]\n",
    "            if modelType=='CONST':\n",
    "                y_pred = list(model['const'].values)*len(dataY)\n",
    "                \n",
    "            elif modelType=='linear':\n",
    "                y_pred = model.predict(dataX.values)\n",
    "            elif (col=='nSi(aq)' and i ==1):\n",
    "                \n",
    "                dfTemp = finalDF[(finalDF['group']=='group2') & (finalDF['var']=='pH')].reset_index(drop=True)\n",
    "                testX = dataX.reset_index(drop=True)\n",
    "                testX['pH'] = dfTemp['predDataY'].values\n",
    "                testX_scaled = scalerSi.transform(testX.values) \n",
    "                y_pred  = model.predict(testX_scaled)\n",
    "                \n",
    "            else:\n",
    "                #scaler = StandardScaler().fit(dataX.values)\n",
    "                X_scaled = scaler.transform(dataX.values)  # This will be used for input of trainning dataset\n",
    "                y_pred  = model.predict(X_scaled)  \n",
    "    \n",
    "            tempDF = pd.DataFrame({'testDataY':dataY, 'predDataY':y_pred})\n",
    "            tempDF['modelType'] = [modelType]*len(tempDF)\n",
    "            tempDF['var'] = [col]*len(tempDF)\n",
    "            tempDF['group'] = ['group'+str(i+1)]*len(tempDF)\n",
    "            tempDF['modelSimulation'] = [ML+'_simulation']*len(tempDF)\n",
    "                \n",
    "            if len(finalDF)==0:   \n",
    "                finalDF = tempDF\n",
    "            else:\n",
    "                finalDF = pd.concat([finalDF,tempDF],axis=0)\n",
    "    "
   ]
  },
  {
   "cell_type": "code",
   "execution_count": 21,
   "id": "b4df5b45",
   "metadata": {},
   "outputs": [
    {
     "data": {
      "text/html": [
       "<div>\n",
       "<style scoped>\n",
       "    .dataframe tbody tr th:only-of-type {\n",
       "        vertical-align: middle;\n",
       "    }\n",
       "\n",
       "    .dataframe tbody tr th {\n",
       "        vertical-align: top;\n",
       "    }\n",
       "\n",
       "    .dataframe thead th {\n",
       "        text-align: right;\n",
       "    }\n",
       "</style>\n",
       "<table border=\"1\" class=\"dataframe\">\n",
       "  <thead>\n",
       "    <tr style=\"text-align: right;\">\n",
       "      <th></th>\n",
       "      <th>testDataY</th>\n",
       "      <th>predDataY</th>\n",
       "      <th>modelType</th>\n",
       "      <th>var</th>\n",
       "      <th>group</th>\n",
       "      <th>modelSimulation</th>\n",
       "    </tr>\n",
       "  </thead>\n",
       "  <tbody>\n",
       "    <tr>\n",
       "      <th>0</th>\n",
       "      <td>12.47261</td>\n",
       "      <td>12.467021</td>\n",
       "      <td>GPyModel</td>\n",
       "      <td>pH</td>\n",
       "      <td>group2</td>\n",
       "      <td>GPyModel_simulation</td>\n",
       "    </tr>\n",
       "    <tr>\n",
       "      <th>1</th>\n",
       "      <td>12.47259</td>\n",
       "      <td>12.472584</td>\n",
       "      <td>GPyModel</td>\n",
       "      <td>pH</td>\n",
       "      <td>group2</td>\n",
       "      <td>GPyModel_simulation</td>\n",
       "    </tr>\n",
       "    <tr>\n",
       "      <th>2</th>\n",
       "      <td>12.02964</td>\n",
       "      <td>12.030489</td>\n",
       "      <td>GPyModel</td>\n",
       "      <td>pH</td>\n",
       "      <td>group2</td>\n",
       "      <td>GPyModel_simulation</td>\n",
       "    </tr>\n",
       "    <tr>\n",
       "      <th>3</th>\n",
       "      <td>12.02193</td>\n",
       "      <td>12.022394</td>\n",
       "      <td>GPyModel</td>\n",
       "      <td>pH</td>\n",
       "      <td>group2</td>\n",
       "      <td>GPyModel_simulation</td>\n",
       "    </tr>\n",
       "    <tr>\n",
       "      <th>4</th>\n",
       "      <td>11.89120</td>\n",
       "      <td>11.891276</td>\n",
       "      <td>GPyModel</td>\n",
       "      <td>pH</td>\n",
       "      <td>group2</td>\n",
       "      <td>GPyModel_simulation</td>\n",
       "    </tr>\n",
       "    <tr>\n",
       "      <th>...</th>\n",
       "      <td>...</td>\n",
       "      <td>...</td>\n",
       "      <td>...</td>\n",
       "      <td>...</td>\n",
       "      <td>...</td>\n",
       "      <td>...</td>\n",
       "    </tr>\n",
       "    <tr>\n",
       "      <th>256</th>\n",
       "      <td>12.23858</td>\n",
       "      <td>12.239265</td>\n",
       "      <td>GPyModel</td>\n",
       "      <td>pH</td>\n",
       "      <td>group2</td>\n",
       "      <td>GPyModel_simulation</td>\n",
       "    </tr>\n",
       "    <tr>\n",
       "      <th>257</th>\n",
       "      <td>11.70151</td>\n",
       "      <td>11.701578</td>\n",
       "      <td>GPyModel</td>\n",
       "      <td>pH</td>\n",
       "      <td>group2</td>\n",
       "      <td>GPyModel_simulation</td>\n",
       "    </tr>\n",
       "    <tr>\n",
       "      <th>258</th>\n",
       "      <td>12.13015</td>\n",
       "      <td>12.131506</td>\n",
       "      <td>GPyModel</td>\n",
       "      <td>pH</td>\n",
       "      <td>group2</td>\n",
       "      <td>GPyModel_simulation</td>\n",
       "    </tr>\n",
       "    <tr>\n",
       "      <th>259</th>\n",
       "      <td>12.03867</td>\n",
       "      <td>12.038154</td>\n",
       "      <td>GPyModel</td>\n",
       "      <td>pH</td>\n",
       "      <td>group2</td>\n",
       "      <td>GPyModel_simulation</td>\n",
       "    </tr>\n",
       "    <tr>\n",
       "      <th>260</th>\n",
       "      <td>11.41790</td>\n",
       "      <td>11.418875</td>\n",
       "      <td>GPyModel</td>\n",
       "      <td>pH</td>\n",
       "      <td>group2</td>\n",
       "      <td>GPyModel_simulation</td>\n",
       "    </tr>\n",
       "  </tbody>\n",
       "</table>\n",
       "<p>261 rows × 6 columns</p>\n",
       "</div>"
      ],
      "text/plain": [
       "     testDataY  predDataY modelType var   group      modelSimulation\n",
       "0     12.47261  12.467021  GPyModel  pH  group2  GPyModel_simulation\n",
       "1     12.47259  12.472584  GPyModel  pH  group2  GPyModel_simulation\n",
       "2     12.02964  12.030489  GPyModel  pH  group2  GPyModel_simulation\n",
       "3     12.02193  12.022394  GPyModel  pH  group2  GPyModel_simulation\n",
       "4     11.89120  11.891276  GPyModel  pH  group2  GPyModel_simulation\n",
       "..         ...        ...       ...  ..     ...                  ...\n",
       "256   12.23858  12.239265  GPyModel  pH  group2  GPyModel_simulation\n",
       "257   11.70151  11.701578  GPyModel  pH  group2  GPyModel_simulation\n",
       "258   12.13015  12.131506  GPyModel  pH  group2  GPyModel_simulation\n",
       "259   12.03867  12.038154  GPyModel  pH  group2  GPyModel_simulation\n",
       "260   11.41790  11.418875  GPyModel  pH  group2  GPyModel_simulation\n",
       "\n",
       "[261 rows x 6 columns]"
      ]
     },
     "execution_count": 21,
     "metadata": {},
     "output_type": "execute_result"
    }
   ],
   "source": [
    "finalDF[(finalDF['var']=='pH') & (finalDF['group']=='group2') ]"
   ]
  },
  {
   "cell_type": "code",
   "execution_count": 22,
   "id": "671276fc",
   "metadata": {
    "scrolled": false
   },
   "outputs": [],
   "source": [
    "finalDF.to_csv('Comparison_predict_5KDataset.csv',index=False)"
   ]
  },
  {
   "cell_type": "markdown",
   "id": "e9781dfe",
   "metadata": {},
   "source": [
    "# Visualization of the prediction of the test dataset"
   ]
  },
  {
   "cell_type": "code",
   "execution_count": 23,
   "id": "b89b3e74",
   "metadata": {
    "scrolled": false
   },
   "outputs": [],
   "source": [
    "def drawPlots(trgVar,testDataY,predDataY,simulation):\n",
    "    \n",
    "    fig, ax =plt.subplots(figsize=(8,8))\n",
    "    \n",
    "    RMSE = mean_squared_error(testDataY,predDataY)\n",
    "    R2   = r2_score(testDataY,predDataY)\n",
    "    axMax = max(max(testDataY),max(predDataY))\n",
    "    axMin = min(min(testDataY),min(predDataY))\n",
    "    #axMax =12.5\n",
    "    #axMin =8.4\n",
    "    ## Fitting the line           \n",
    "    x2= np.linspace(axMin,axMax,30);\n",
    "    y2 = x2\n",
    "    ax.plot(testDataY,predDataY,'bo',markerfacecolor = 'blue',markeredgecolor ='darkblue',markeredgewidth=0.5,label=trgVar)\n",
    "    \n",
    "    #ax.plot(df3['b(SiO2)'].values,df3['b(CaO)'].values,'bo',markerfacecolor = 'c',markeredgecolor ='b',markeredgewidth=0.5,label='no Amor-S1')\n",
    "    #ax.plot(group3['b(SiO2)'].values,group3['b(CaO)'].values,'g^',markerfacecolor = 'm',markeredgecolor ='m',markeredgewidth=1,label='group3')\n",
    "    ax.plot(x2,y2,'r-',lw=3,label ='1:1 ratio')\n",
    "    ax.legend (loc='best',ncol=5)           \n",
    "    ax.set_xlim(axMin,axMax)\n",
    "    ax.set_ylim(axMin,axMax)\n",
    "    #ax.text(0.05, 0.8, 'Above the line with Portlandite',fontsize = 20,color = 'k')\n",
    "    #ax.text(0.4, 0.50, 'Below the line no Portlandite',fontsize = 20,color = 'k')\n",
    "    ax.set_title(simulation+ ' ====> '+trgVar)\n",
    "    ax.set_xlabel('testDataY')\n",
    "    ax.set_ylabel('PredDataY')    \n",
    "        \n",
    "    return R2, RMSE    "
   ]
  },
  {
   "cell_type": "code",
   "execution_count": 24,
   "id": "6fee0755",
   "metadata": {},
   "outputs": [
    {
     "data": {
      "text/plain": [
       "array(['pH', 'nSi(aq)'], dtype=object)"
      ]
     },
     "execution_count": 24,
     "metadata": {},
     "output_type": "execute_result"
    }
   ],
   "source": [
    "finalDF['var'].unique()"
   ]
  },
  {
   "cell_type": "code",
   "execution_count": 25,
   "id": "b07df49f",
   "metadata": {
    "scrolled": false
   },
   "outputs": [
    {
     "data": {
      "image/png": "[encoded data removed]",
      "text/plain": [
       "<Figure size 576x576 with 1 Axes>"
      ]
     },
     "metadata": {},
     "output_type": "display_data"
    },
    {
     "data": {
      "image/png": "[encoded data removed]",
      "text/plain": [
       "<Figure size 576x576 with 1 Axes>"
      ]
     },
     "metadata": {},
     "output_type": "display_data"
    }
   ],
   "source": [
    "modelSimulations = finalDF['modelSimulation'].unique()\n",
    "trgVars = finalDF['var'].unique()\n",
    "statMeasure = []\n",
    "for simulation in modelSimulations:\n",
    "    tempDF = finalDF[finalDF['modelSimulation']==simulation]\n",
    "    for trgVar in trgVars:\n",
    "        df = tempDF[tempDF['var']==trgVar]  # no Portlandite\n",
    "        testDataY = df['testDataY'].values\n",
    "        predDataY = df['predDataY'].values\n",
    "        R2,RMSE = drawPlots(trgVar,testDataY,predDataY,simulation)\n",
    "        statMeasure.append([trgVar,R2,RMSE,simulation])\n",
    "    \n",
    "statMeasDF = pd.DataFrame(statMeasure,columns=['Var','R2','RMSE','modelSimulation'])    \n"
   ]
  },
  {
   "cell_type": "code",
   "execution_count": null,
   "id": "403f2f2b",
   "metadata": {
    "scrolled": false
   },
   "outputs": [],
   "source": []
  },
  {
   "cell_type": "raw",
   "id": "5ce86245",
   "metadata": {},
   "source": [
    "fl1 = r'E:\\projects\\MLChemicalR\\upload\\case3_2\\SavedModel\\group2\\GPyModel_pH3_2.sav'\n",
    "tempModel1 = pickle.load(open(fl1, 'rb'))\n",
    "fl1 = r'E:\\projects\\MLChemicalR\\upload\\case3_2\\SavedModel\\group2\\GPyModel_pH.sav'\n",
    "tempModel2 = pickle.load(open(fl1, 'rb'))"
   ]
  },
  {
   "cell_type": "raw",
   "id": "8390a3d5",
   "metadata": {},
   "source": [
    "tempModel1.__dict__"
   ]
  },
  {
   "cell_type": "raw",
   "id": "aa00b8dd",
   "metadata": {},
   "source": [
    "tempModel2.__dict__"
   ]
  },
  {
   "cell_type": "raw",
   "id": "37bbffae",
   "metadata": {},
   "source": [
    "X_train2 = tempModel2.X_train_"
   ]
  },
  {
   "cell_type": "raw",
   "id": "4772836c",
   "metadata": {},
   "source": [
    "X_train1 = tempModel1.X_train_"
   ]
  },
  {
   "cell_type": "raw",
   "id": "9af35870",
   "metadata": {},
   "source": [
    "np.testing.assert_array_equal(X_train2,X_train1)"
   ]
  },
  {
   "cell_type": "raw",
   "id": "195a77bb",
   "metadata": {},
   "source": [
    "y_train2 = tempModel2.y_train_\n",
    "y_train1 = tempModel1.y_train_\n"
   ]
  },
  {
   "cell_type": "raw",
   "id": "802b9ea6",
   "metadata": {},
   "source": [
    "np.testing.assert_array_equal(y_train2,y_train1)"
   ]
  },
  {
   "cell_type": "raw",
   "id": "7347346d",
   "metadata": {},
   "source": [
    "def GPyModel(xtrain,ytrain):\n",
    "    GPy_Model = GaussianProcessRegressor(kernel=Matern(length_scale=[1,1,1], nu=2.5),alpha=10e-7, n_restarts_optimizer=9, normalize_y=True)\n",
    "    #GPy_random = RandomizedSearchCV(estimator = GPy_Model, param_distributions = random_GPyModel, scoring = 'r2',n_iter = 100, cv = 3, verbose=2, random_state=42, n_jobs = -1)\n",
    "    GPy_Model.fit(xtrain, ytrain)        \n",
    "    pickle.dump(GPy_Model, open('gpy_pH_group2_try.pkl', 'wb'))             \n",
    "    # Cross Validation\n",
    "    #scores = outputModelTrainningScore(GPy_Model,xtrain,ytrain,nCV=10)     \n",
    "    return GPy_Model #@,scores"
   ]
  },
  {
   "cell_type": "raw",
   "id": "6b32a47c",
   "metadata": {},
   "source": [
    "GPy_Model = GPyModel(X_train1,y_train1)"
   ]
  },
  {
   "cell_type": "raw",
   "id": "851983d9",
   "metadata": {},
   "source": [
    "GPy_Model.__dict__"
   ]
  },
  {
   "cell_type": "raw",
   "id": "0f27ed32",
   "metadata": {},
   "source": [
    "GPy_Model4 = GPyModel(X_train2,y_train2)"
   ]
  },
  {
   "cell_type": "raw",
   "id": "be592e22",
   "metadata": {},
   "source": [
    "GPy_Model4.__dict__"
   ]
  },
  {
   "cell_type": "code",
   "execution_count": null,
   "id": "0377e4cc",
   "metadata": {},
   "outputs": [],
   "source": []
  }
 ],
 "metadata": {
  "kernelspec": {
   "display_name": "Python 3 (ipykernel)",
   "language": "python",
   "name": "python3"
  },
  "language_info": {
   "codemirror_mode": {
    "name": "ipython",
    "version": 3
   },
   "file_extension": ".py",
   "mimetype": "text/x-python",
   "name": "python",
   "nbconvert_exporter": "python",
   "pygments_lexer": "ipython3",
   "version": "3.9.13"
  }
 },
 "nbformat": 4,
 "nbformat_minor": 5
}
