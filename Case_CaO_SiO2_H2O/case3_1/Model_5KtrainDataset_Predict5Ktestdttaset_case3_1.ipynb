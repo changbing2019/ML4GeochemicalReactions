{
 "cells": [
  {
   "cell_type": "code",
   "execution_count": 1,
   "id": "9bd4b688",
   "metadata": {
    "scrolled": false
   },
   "outputs": [
    {
     "name": "stderr",
     "output_type": "stream",
     "text": [
      "E:\\Anaconda3\\envs\\tf\\lib\\site-packages\\xgboost\\compat.py:36: FutureWarning: pandas.Int64Index is deprecated and will be removed from pandas in a future version. Use pandas.Index with the appropriate dtype instead.\n",
      "  from pandas import MultiIndex, Int64Index\n"
     ]
    }
   ],
   "source": [
    "import pickle\n",
    "import numpy as np\n",
    "import pandas as pd\n",
    "import os, glob\n",
    "import seaborn as sns\n",
    "from sklearn.model_selection import cross_val_score\n",
    "from sklearn.model_selection import RepeatedKFold, cross_validate\n",
    "from sklearn.model_selection import train_test_split\n",
    "import lightgbm as lgb\n",
    "from sklearn.metrics import r2_score\n",
    "from sklearn.metrics import mean_squared_error\n",
    "\n",
    "## The following are the ML models which can be used for trasinning\n",
    "from sklearn.model_selection import RandomizedSearchCV\n",
    "from sklearn.neural_network import MLPRegressor\n",
    "from sklearn.ensemble import RandomForestRegressor,  GradientBoostingRegressor\n",
    "from xgboost import XGBRegressor\n",
    "from lightgbm import LGBMRegressor\n",
    "from sklearn.gaussian_process import GaussianProcessRegressor\n",
    "from sklearn.gaussian_process.kernels import Matern\n",
    "from sklearn.linear_model import LinearRegression\n",
    "\n",
    "from sklearn.preprocessing import MinMaxScaler,StandardScaler\n",
    "\n",
    "import timeit\n",
    "import warnings\n",
    "warnings.filterwarnings(\"ignore\")\n"
   ]
  },
  {
   "cell_type": "code",
   "execution_count": 2,
   "id": "166ccab7",
   "metadata": {
    "scrolled": false
   },
   "outputs": [],
   "source": [
    "import matplotlib.pyplot as plt\n",
    "import matplotlib as mpl\n",
    "\n",
    "import numpy as np\n",
    "%matplotlib inline\n",
    "import pandas as pd"
   ]
  },
  {
   "cell_type": "code",
   "execution_count": 3,
   "id": "bbca8f5d",
   "metadata": {
    "scrolled": false
   },
   "outputs": [],
   "source": [
    "import seaborn as sns\n",
    "sns.set(style=\"darkgrid\")"
   ]
  },
  {
   "cell_type": "code",
   "execution_count": 4,
   "id": "c59e722a",
   "metadata": {
    "scrolled": false
   },
   "outputs": [],
   "source": [
    "sns.set_context('talk')"
   ]
  },
  {
   "cell_type": "code",
   "execution_count": 5,
   "id": "bc20df9e",
   "metadata": {
    "scrolled": false
   },
   "outputs": [],
   "source": [
    "from IPython.display import display, HTML, Image"
   ]
  },
  {
   "cell_type": "code",
   "execution_count": 6,
   "id": "9d922587",
   "metadata": {
    "scrolled": false
   },
   "outputs": [],
   "source": [
    "import matplotlib.colors as mcolors"
   ]
  },
  {
   "cell_type": "code",
   "execution_count": null,
   "id": "e12d4093",
   "metadata": {
    "scrolled": false
   },
   "outputs": [],
   "source": []
  },
  {
   "cell_type": "code",
   "execution_count": 7,
   "id": "52f6267a",
   "metadata": {
    "scrolled": false
   },
   "outputs": [],
   "source": [
    "dataFolder = os.getcwd()"
   ]
  },
  {
   "cell_type": "code",
   "execution_count": 8,
   "id": "611f13d5",
   "metadata": {
    "scrolled": false
   },
   "outputs": [],
   "source": [
    "group1_low =1.634\n",
    "group2_low =0.673\n",
    "group2_upper =1.634\n",
    "group3_upper =0.673"
   ]
  },
  {
   "cell_type": "code",
   "execution_count": 9,
   "id": "e90cd906",
   "metadata": {
    "scrolled": false
   },
   "outputs": [],
   "source": [
    "## read the test file\n",
    "data =pd.read_csv(os.path.join(dataFolder,'dataset5K_test.csv'))\n",
    "data.columns =[col.strip() for col in data.columns]\n",
    "data['ratio'] = data['b(CaO)']/data['b(SiO2)']\n",
    "group1 = data[data['ratio']>=group1_low]  # with Portlandite, no Amor-S1\n",
    "group2 = data[(data['ratio']<=group2_upper) & (data['ratio']>=group2_low)]  # no Portlandite, no Amor-S1\n",
    "group3 = data[data['ratio']<=group3_upper]     # no Portlandite, with Amor-S1\n",
    "groups = [group1,group2,group3]\n",
    "dataCols = data.columns"
   ]
  },
  {
   "cell_type": "code",
   "execution_count": 10,
   "id": "356775a2",
   "metadata": {},
   "outputs": [],
   "source": [
    "## Read the scaler file\n",
    "\n",
    "scaler = pickle.load(open('scaler.pkl', 'rb'))\n"
   ]
  },
  {
   "cell_type": "code",
   "execution_count": null,
   "id": "23645d46",
   "metadata": {},
   "outputs": [],
   "source": []
  },
  {
   "cell_type": "code",
   "execution_count": 11,
   "id": "7cefa509",
   "metadata": {},
   "outputs": [],
   "source": [
    "modelSummary={'GPyModel':'ModelTrainSummary.csv'}"
   ]
  },
  {
   "cell_type": "code",
   "execution_count": null,
   "id": "4686c8f7",
   "metadata": {
    "scrolled": false
   },
   "outputs": [],
   "source": []
  },
  {
   "cell_type": "code",
   "execution_count": 12,
   "id": "2e0af0d0",
   "metadata": {
    "scrolled": true
   },
   "outputs": [],
   "source": [
    "## read trained Model info:\n",
    "def getReadyModelInfo(dataFolder,fileNameModelSummary,dataCols):\n",
    "    \n",
    "    modelInfo =pd.read_csv(os.path.join(dataFolder,fileNameModelSummary))\n",
    "    \n",
    "    modelInfo = modelInfo.iloc[:,1:4]\n",
    "    ## load the mdoels\n",
    "    dataCols = data.columns.to_list()\n",
    "    modelsLst = []\n",
    "    for irow,row in modelInfo.iterrows():\n",
    "        group = row['group']\n",
    "        var =row['var']\n",
    "        modelType = row['modelType']\n",
    "        icol =dataCols.index(var)\n",
    "        if '/' in var:\n",
    "            fileCol = var.replace(\"/\",'')\n",
    "        else:\n",
    "            fileCol = var            \n",
    "    \n",
    "        modelFolder = os.path.join(dataFolder,'SavedModel',group)\n",
    "        if modelType=='CONST':\n",
    "            ext = '.csv'\n",
    "            fileName = os.path.join(modelFolder,modelType +'_'+fileCol+ext)\n",
    "            tempModel =pd.read_csv(fileName)\n",
    "        else:\n",
    "            ext ='.sav'\n",
    "            fileName = os.path.join(modelFolder,modelType +'_'+fileCol+ext)\n",
    "            tempModel = pickle.load(open(fileName, 'rb'))\n",
    "        \n",
    "        modelsLst.append(tempModel)\n",
    "    \n",
    "    modelInfo['modelObj'] = modelsLst \n",
    "    \n",
    "    return modelInfo"
   ]
  },
  {
   "cell_type": "code",
   "execution_count": null,
   "id": "a340809e",
   "metadata": {
    "scrolled": true
   },
   "outputs": [],
   "source": []
  },
  {
   "cell_type": "code",
   "execution_count": 13,
   "id": "96820fef",
   "metadata": {
    "scrolled": false
   },
   "outputs": [],
   "source": [
    "finalDF = pd.DataFrame()\n",
    "for ML,modelSummaryCsv in modelSummary.items():\n",
    "    tempModelInfo = getReadyModelInfo(dataFolder,modelSummaryCsv,dataCols)\n",
    "    for col in ['pH']: #group1.columns[4:-1]:  # exclude 'ratio' \n",
    "        colModelInfo = tempModelInfo[tempModelInfo['var'] == col]  \n",
    "        \n",
    "        for i, group in enumerate(groups):\n",
    "        \n",
    "            dataX = group.iloc[:,1:4]    \n",
    "            dataY = group[col].values\n",
    "            groupModelInfo = colModelInfo[colModelInfo['group'] =='group'+str(i+1)]\n",
    "            modelType = groupModelInfo['modelType'].values[0]\n",
    "            model = groupModelInfo['modelObj'].values[0]\n",
    "            if modelType=='CONST':\n",
    "                y_pred = list(model['const'].values)*len(dataY)\n",
    "                \n",
    "            elif modelType=='linear':\n",
    "                y_pred = model.predict(dataX.values)\n",
    "            \n",
    "            else:\n",
    "                #scaler = StandardScaler().fit(dataX.values)\n",
    "                X_scaled = scaler.transform(dataX.values)  # This will be used for input of trainning dataset\n",
    "                y_pred  = model.predict(X_scaled)  \n",
    "    \n",
    "            tempDF = pd.DataFrame({'testDataY':dataY, 'predDataY':y_pred})\n",
    "            tempDF['modelType'] = [modelType]*len(tempDF)\n",
    "            tempDF['var'] = [col]*len(tempDF)\n",
    "            tempDF['group'] = ['group'+str(i+1)]*len(tempDF)\n",
    "            tempDF['modelSimulation'] = [ML+'_simulation']*len(tempDF)\n",
    "                \n",
    "            if len(finalDF)==0:   \n",
    "                finalDF = tempDF\n",
    "            else:\n",
    "                finalDF = pd.concat([finalDF,tempDF],axis=0)\n",
    "    "
   ]
  },
  {
   "cell_type": "code",
   "execution_count": null,
   "id": "b4df5b45",
   "metadata": {},
   "outputs": [],
   "source": []
  },
  {
   "cell_type": "code",
   "execution_count": 14,
   "id": "671276fc",
   "metadata": {
    "scrolled": false
   },
   "outputs": [],
   "source": [
    "finalDF.to_csv('Comparison_predict_5KDataset.csv',index=False)"
   ]
  },
  {
   "cell_type": "markdown",
   "id": "e9781dfe",
   "metadata": {},
   "source": [
    "# Visualization of the prediction of the test dataset"
   ]
  },
  {
   "cell_type": "code",
   "execution_count": 15,
   "id": "b89b3e74",
   "metadata": {
    "scrolled": false
   },
   "outputs": [],
   "source": [
    "def drawPlots(trgVar,testDataY,predDataY,simulation):\n",
    "    \n",
    "    fig, ax =plt.subplots(figsize=(8,8))\n",
    "    \n",
    "    RMSE = mean_squared_error(testDataY,predDataY)\n",
    "    R2   = r2_score(testDataY,predDataY)\n",
    "    axMax = max(max(testDataY),max(predDataY))\n",
    "    axMin = min(min(testDataY),min(predDataY))\n",
    "    axMax =12.5\n",
    "    axMin =8.4\n",
    "    ## Fitting the line           \n",
    "    x2= np.linspace(axMin,axMax,30);\n",
    "    y2 = x2\n",
    "    ax.plot(testDataY,predDataY,'bo',markerfacecolor = 'blue',markeredgecolor ='darkblue',markeredgewidth=0.5,label=trgVar)\n",
    "    \n",
    "    #ax.plot(df3['b(SiO2)'].values,df3['b(CaO)'].values,'bo',markerfacecolor = 'c',markeredgecolor ='b',markeredgewidth=0.5,label='no Amor-S1')\n",
    "    #ax.plot(group3['b(SiO2)'].values,group3['b(CaO)'].values,'g^',markerfacecolor = 'm',markeredgecolor ='m',markeredgewidth=1,label='group3')\n",
    "    ax.plot(x2,y2,'r-',lw=3,label ='1:1 ratio')\n",
    "    ax.legend (loc='best',ncol=5)           \n",
    "    ax.set_xlim(axMin,axMax)\n",
    "    ax.set_ylim(axMin,axMax)\n",
    "    #ax.text(0.05, 0.8, 'Above the line with Portlandite',fontsize = 20,color = 'k')\n",
    "    #ax.text(0.4, 0.50, 'Below the line no Portlandite',fontsize = 20,color = 'k')\n",
    "    ax.set_title(simulation+ ' ====> '+trgVar)\n",
    "    ax.set_xlabel('testDataY')\n",
    "    ax.set_ylabel('PredDataY')    \n",
    "        \n",
    "    return R2, RMSE    "
   ]
  },
  {
   "cell_type": "code",
   "execution_count": null,
   "id": "6fee0755",
   "metadata": {},
   "outputs": [],
   "source": []
  },
  {
   "cell_type": "code",
   "execution_count": 16,
   "id": "b07df49f",
   "metadata": {
    "scrolled": false
   },
   "outputs": [
    {
     "data": {
      "image/png": "[encoded data removed]",
      "text/plain": [
       "<Figure size 576x576 with 1 Axes>"
      ]
     },
     "metadata": {},
     "output_type": "display_data"
    }
   ],
   "source": [
    "modelSimulations = finalDF['modelSimulation'].unique()\n",
    "trgVars = finalDF['var'].unique()\n",
    "statMeasure = []\n",
    "for simulation in modelSimulations:\n",
    "    if 'MLP' in simulation or 'xgb' in simulation: # skip the xgb and MLP models\n",
    "        continue\n",
    "    tempDF = finalDF[finalDF['modelSimulation']==simulation]\n",
    "    for trgVar in trgVars:\n",
    "        df = tempDF[tempDF['var']==trgVar]  # no Portlandite\n",
    "        testDataY = df['testDataY'].values\n",
    "        predDataY = df['predDataY'].values\n",
    "        R2,RMSE = drawPlots(trgVar,testDataY,predDataY,simulation)\n",
    "        statMeasure.append([trgVar,R2,RMSE,simulation])\n",
    "    \n",
    "statMeasDF = pd.DataFrame(statMeasure,columns=['Var','R2','RMSE','modelSimulation'])    \n"
   ]
  },
  {
   "cell_type": "code",
   "execution_count": null,
   "id": "33cd174f",
   "metadata": {},
   "outputs": [],
   "source": []
  }
 ],
 "metadata": {
  "kernelspec": {
   "display_name": "Python 3 (ipykernel)",
   "language": "python",
   "name": "python3"
  },
  "language_info": {
   "codemirror_mode": {
    "name": "ipython",
    "version": 3
   },
   "file_extension": ".py",
   "mimetype": "text/x-python",
   "name": "python",
   "nbconvert_exporter": "python",
   "pygments_lexer": "ipython3",
   "version": "3.9.13"
  }
 },
 "nbformat": 4,
 "nbformat_minor": 5
}
