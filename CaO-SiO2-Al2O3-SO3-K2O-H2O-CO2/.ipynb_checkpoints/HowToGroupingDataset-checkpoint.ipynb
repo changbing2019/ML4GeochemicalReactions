{
 "cells": [
  {
   "cell_type": "code",
   "execution_count": 1,
   "id": "372452d9-61bf-4f3a-889d-e882c8bc630a",
   "metadata": {},
   "outputs": [],
   "source": [
    "import pickle"
   ]
  },
  {
   "cell_type": "code",
   "execution_count": 2,
   "id": "b9eb22aa-32a2-459b-a631-4883eef866fe",
   "metadata": {},
   "outputs": [],
   "source": [
    "import matplotlib.pyplot as plt\n",
    "import matplotlib as mpl\n",
    "\n",
    "import numpy as np\n",
    "%matplotlib inline\n",
    "import pandas as pd"
   ]
  },
  {
   "cell_type": "code",
   "execution_count": 3,
   "id": "1a08a9d5-8101-43f1-998c-e1222ed6be70",
   "metadata": {},
   "outputs": [],
   "source": [
    "import os, glob\n",
    "import seaborn as sns\n",
    "sns.set(style=\"darkgrid\")"
   ]
  },
  {
   "cell_type": "code",
   "execution_count": 4,
   "id": "b563500e-4f3a-45c3-be9a-14d76e59d501",
   "metadata": {},
   "outputs": [],
   "source": [
    "from IPython.display import display, HTML, Image"
   ]
  },
  {
   "cell_type": "code",
   "execution_count": 6,
   "id": "02a8e8eb-a986-4062-8759-74e51b8a2b89",
   "metadata": {},
   "outputs": [],
   "source": [
    "data =pd.read_csv('35_SCc_02_LHS_50000_54854_01_s1_G.csv')\n",
    "#data5k =pd.read_csv(r'F:\\ML4ChemcialReactions\\chemical5K\\10_PC_02_LHS_5000_54854_01_s1_G.csv')"
   ]
  },
  {
   "cell_type": "code",
   "execution_count": 7,
   "id": "7b6ece0e-7aa0-41b0-8120-d41637ccdc74",
   "metadata": {},
   "outputs": [],
   "source": [
    "### Remove the space from the column names\n",
    "data.columns =[col.strip() for col in data.columns]\n",
    "#data5k.columns =[col.strip() for col in data5k.columns]\n"
   ]
  },
  {
   "cell_type": "code",
   "execution_count": null,
   "id": "bd2300ed-d856-4150-aaf6-2e208ca6f224",
   "metadata": {},
   "outputs": [],
   "source": []
  },
  {
   "cell_type": "markdown",
   "id": "ac79c23e-b774-440f-915a-1c7106469f27",
   "metadata": {},
   "source": [
    "# Determing the firstline"
   ]
  },
  {
   "cell_type": "markdown",
   "id": "8f6b2e72-8b58-4661-8880-fe7b34b8d0c1",
   "metadata": {},
   "source": [
    "\n",
    "<li> The zones basically based on occurance of the two minerals in the chemical systems <br>\n",
    "  <li> Portlandite </li>\n",
    "  <li> Portlandite </li>\n",
    "</li>\n",
    "\n",
    "The CSH solid solution always is presented in the chemical system. <br>\n",
    "So we do not conisered this mineral when we draw the stability daigram\n"
   ]
  },
  {
   "cell_type": "code",
   "execution_count": 8,
   "id": "763e21a9-e47c-4b95-880d-39b1873faee5",
   "metadata": {},
   "outputs": [
    {
     "data": {
      "text/plain": [
       "Index(['T', 'CaO', 'SiO2', 'Al2O3', 'SO3', 'K2O', 'CO2', 'H2O', 'pH',\n",
       "       'MassWater', 'Ca_aq', 'Si_aq', 'Al_aq', 'S_aq', 'K_aq', 'C_aq', 'O_aq',\n",
       "       'H_aq', 'Ca_s', 'Si_s', 'Al_s', 'S_s', 'K_s', 'C_s', 'O_s', 'H_s',\n",
       "       'Portlandite', 'AmorfSi', 'Gibbsite', 'Katoite', 'Monosulfate',\n",
       "       'Gypsum', 'Ettringite', 'Straetlingite', 'Chabazite', 'Calcite',\n",
       "       'Hemicarbonate', 'Monocarbonate', 'Thaumasite', 'mETss', 'Al_ET_ss',\n",
       "       'Ca_ET_ss', 'S_ET_ss', 'C_ET_ss', 'H2O_ET_ss', 'mCSHQ', 'Ca_ss',\n",
       "       'Si_ss', 'K_ss', 'H2O_ss', 'V_s', 'Gel_water'],\n",
       "      dtype='object')"
      ]
     },
     "execution_count": 8,
     "metadata": {},
     "output_type": "execute_result"
    }
   ],
   "source": [
    "data.columns"
   ]
  },
  {
   "cell_type": "code",
   "execution_count": 9,
   "id": "e79cf24a",
   "metadata": {},
   "outputs": [],
   "source": [
    "pureMinerals = ['Portlandite', 'AmorfSi', 'Gibbsite', 'Katoite', 'Monosulfate',\n",
    "       'Gypsum', 'Ettringite', 'Straetlingite', 'Chabazite', 'Calcite',\n",
    "       'Hemicarbonate', 'Monocarbonate', 'Thaumasite']"
   ]
  },
  {
   "cell_type": "code",
   "execution_count": null,
   "id": "8570f510-3301-4bdf-bd6c-03105adcd7e9",
   "metadata": {},
   "outputs": [],
   "source": [
    "fig, ax =plt.subplots(figsize=(12,8))\n",
    "df1 = data5k[data5k['nAmor-Sl']<=0.001]  # no nAmor-Sl\n",
    "df2 = data5k[data5k['nAmor-Sl']>0.001]   # with no nAmor-Sl\n",
    "\n",
    "#df2 = data5k[data5k['nPortlandite']<0.01]\n",
    "#df3 = data5k[(data5k['nPortlandite']>=0.01) & data5k['pH']<=9.45]\n",
    "## Fitting the boundary seperating Amor-S1           \n",
    "x1= np.linspace(0.0,0.9,30);\n",
    "y1 = 0+0.67*x1\n",
    "ax.plot(df2['b(SiO2)'].values,df2['b(CaO)'].values,'bo',markerfacecolor = 'c',markeredgecolor ='darkblue',markeredgewidth=0.5,label='with nAmor-Sl')\n",
    "ax.plot(df1['b(SiO2)'].values,df1['b(CaO)'].values,'b^',markerfacecolor = 'tab:olive',markeredgecolor ='m',markeredgewidth=0.5,label='no nAmor-Sl')\n",
    "ax.plot(x1,y1,'r-',lw=2,label ='Line 1')\n",
    "ax.legend (loc='best',ncol=5)           \n",
    "ax.set_xlim(0,0.9)\n",
    "ax.set_ylim(0,2.2)\n",
    "ax.text(0.05, 0.3, 'Above the line no Amor-Si',fontsize = 20,color = 'tab:orange')\n",
    "ax.text(0.6, 0.20, 'Below the line with Amor-Si',fontsize = 20,color = 'k')\n",
    "\n",
    "ax.set_xlabel('b(SiO2)')\n",
    "ax.set_ylabel('b(CaO)')\n"
   ]
  },
  {
   "cell_type": "markdown",
   "id": "48a7db50-118a-45ca-bb4f-6556ee2d3203",
   "metadata": {},
   "source": [
    "# Determine the second line"
   ]
  },
  {
   "cell_type": "code",
   "execution_count": null,
   "id": "06f99c14-fd9a-4746-9348-c24a144e65d9",
   "metadata": {},
   "outputs": [],
   "source": [
    "fig, ax =plt.subplots(figsize=(12,8))\n",
    "df1 = data5k[data5k['nPortlandite']<=0.001]  # no Portlandite\n",
    "df2 = data5k[data5k['nPortlandite']>0.001]   # with no Portlandite\n",
    "\n",
    "## Fitting the line           \n",
    "x2= np.linspace(0.0,0.9,30);\n",
    "y2 = 0+1.60*x2\n",
    "ax.plot(df2['b(SiO2)'].values,df2['b(CaO)'].values,'bo',markerfacecolor = '#0DFFFF',markeredgecolor ='darkblue',markeredgewidth=0.5,label='with Portlandite')\n",
    "ax.plot(df1['b(SiO2)'].values,df1['b(CaO)'].values,'b^',markerfacecolor = 'tab:olive',markeredgecolor ='m',markeredgewidth=0.5,label='no Portlandite')\n",
    "\n",
    "#ax.plot(df3['b(SiO2)'].values,df3['b(CaO)'].values,'bo',markerfacecolor = 'c',markeredgecolor ='b',markeredgewidth=0.5,label='no Amor-S1')\n",
    "#ax.plot(group3['b(SiO2)'].values,group3['b(CaO)'].values,'g^',markerfacecolor = 'm',markeredgecolor ='m',markeredgewidth=1,label='group3')\n",
    "ax.plot(x2,y2,'y-',lw=3,label ='Line 2')\n",
    "ax.legend (loc='best',ncol=5)           \n",
    "ax.set_xlim(0,0.9)\n",
    "ax.set_ylim(0,2.2)\n",
    "ax.text(0.05, 0.8, 'Above the line with Portlandite',fontsize = 20,color = 'k')\n",
    "ax.text(0.4, 0.50, 'Below the line no Portlandite',fontsize = 20,color = 'k')\n",
    "\n",
    "ax.set_xlabel('b(SiO2)')\n",
    "ax.set_ylabel('b(CaO)')"
   ]
  },
  {
   "cell_type": "markdown",
   "id": "4c23d0e9-ccaa-4e62-8f22-c17f55b86d3b",
   "metadata": {},
   "source": [
    "## Put the three zones together"
   ]
  },
  {
   "cell_type": "code",
   "execution_count": null,
   "id": "07c111c1-dc70-49c6-8247-04ac46a1f192",
   "metadata": {},
   "outputs": [],
   "source": [
    "fig, ax =plt.subplots(figsize=(12,8))\n",
    "df1 = data5k[data5k['nPortlandite']<=0.001]  # no Portlandite\n",
    "df2 = data5k[data5k['nPortlandite']>0.001]   # with no Portlandite\n",
    "df3 = data5k[data5k['nAmor-Sl']>0.001]   # with nAmor-Sl\n",
    "\n",
    "#df2 = data5k[data5k['nPortlandite']<0.01]\n",
    "#df3 = data5k[(data5k['nPortlandite']>=0.01) & data5k['pH']<=9.45]\n",
    "## Fitting the boundary seperating Amor-S1           \n",
    "x1= np.linspace(0.0,0.9,30);\n",
    "y1 = 0+0.67*x1\n",
    "## Fitting the line           \n",
    "x2= np.linspace(0.0,0.9,30);\n",
    "y2 = 0+1.60*x2\n",
    "ax.plot(df2['b(SiO2)'].values,df2['b(CaO)'].values,'bo',markerfacecolor = '#0DFFFF',markeredgecolor ='darkblue',markeredgewidth=0.5,label='with Portlandite')\n",
    "ax.plot(df1['b(SiO2)'].values,df1['b(CaO)'].values,'b^',markerfacecolor = 'tab:olive',markeredgecolor ='m',markeredgewidth=0.5,label='no Portlandite')\n",
    "\n",
    "ax.plot(df3['b(SiO2)'].values,df3['b(CaO)'].values,'bo',markerfacecolor = 'c',markeredgecolor ='b',markeredgewidth=0.5,label='with Amor-S1')\n",
    "#ax.plot(group3['b(SiO2)'].values,group3['b(CaO)'].values,'g^',markerfacecolor = 'm',markeredgecolor ='m',markeredgewidth=1,label='group3')\n",
    "ax.plot(x2,y2,'y-',lw=3,label ='Line 2')\n",
    "ax.plot(x1,y1,'r-',lw=2,label ='Line 1')\n",
    "ax.legend (loc='best',ncol=5)           \n",
    "\n",
    "ax.legend (loc='best',ncol=5)           \n",
    "ax.set_xlim(0,0.9)\n",
    "ax.set_ylim(0,2.2)\n",
    "ax.text(0.05, 0.8, 'Above the line no Amor-Si, with Portlandite',fontsize = 20,color = 'k')\n",
    "ax.text(0.4, 0.50, 'no Amor-Si or Portlandite',fontsize = 20,color = 'k')\n",
    "ax.text(0.35, 0.02, 'with Amor-Si no Portlandite',fontsize = 20,color = 'k')\n",
    "\n",
    "ax.set_xlabel('b(SiO2)')\n",
    "ax.set_ylabel('b(CaO)')"
   ]
  },
  {
   "cell_type": "code",
   "execution_count": null,
   "id": "496ba804-89d0-4ba5-b9b2-3938d888ee29",
   "metadata": {},
   "outputs": [],
   "source": []
  },
  {
   "cell_type": "markdown",
   "id": "91d61d3c-a7fe-4834-886c-b5047cc52122",
   "metadata": {},
   "source": [
    "## Calculate the ratio of CaO to SiO2\n",
    "\n",
    "## Put all togehter"
   ]
  },
  {
   "cell_type": "code",
   "execution_count": null,
   "id": "7cb4c130-759a-4e1a-9c11-a686d057f86f",
   "metadata": {},
   "outputs": [],
   "source": [
    "\n",
    "data['ratio'] = data['b(CaO)']/data['b(SiO2)']\n",
    "data5k['ratio'] = data5k['b(CaO)']/data5k['b(SiO2)']"
   ]
  },
  {
   "cell_type": "code",
   "execution_count": null,
   "id": "6ebafe1f-c0d3-4137-85be-7c17089390e8",
   "metadata": {},
   "outputs": [],
   "source": [
    "#group1 = data[data['ratio']>=1.60]\n",
    "#group2 = data[(data['ratio']<1.60) & (data['ratio']>0.67)]\n",
    "#group3 = data[data['ratio']<=0.67]\n",
    "group5k_1 = data5k[(data5k['nPortlandite']>=0.001)& (data5k['nAmor-Sl']<=0.001)]  # with Portlandite, no Amor-S1\n",
    "group5k_2 = data5k[(data5k['nPortlandite']<=0.001)& (data5k['nAmor-Sl']<=0.001)]   # no Portlandite, no Amor-S1\n",
    "group5k_3 = data5k[(data5k['nPortlandite']<=0.001)& (data5k['nAmor-Sl']>=0.001)]    # no Portlandite, with Amor-S1"
   ]
  },
  {
   "cell_type": "code",
   "execution_count": null,
   "id": "109c10dd-3a82-43df-a5af-fda7422a0b49",
   "metadata": {},
   "outputs": [],
   "source": [
    "print(group5k_1['ratio'].max(),group5k_1['ratio'].min())  # with Portlandite, no Amor-S1\n",
    "group1_low=group5k_1['ratio'].min()"
   ]
  },
  {
   "cell_type": "code",
   "execution_count": null,
   "id": "a3b68157-4907-4fa2-93ba-3b18159eeb43",
   "metadata": {},
   "outputs": [],
   "source": [
    "print(group5k_2['ratio'].max(),group5k_2['ratio'].min())   # no Portlandite, no Amor-S1\n",
    "\n",
    "group2_upper=group5k_2['ratio'].max()\n",
    "group2_low =group5k_2['ratio'].min()   # no Portlandite, no Amor-S1\n"
   ]
  },
  {
   "cell_type": "code",
   "execution_count": null,
   "id": "160d5432-e23a-46dd-8c29-7f5f2a2a3f83",
   "metadata": {},
   "outputs": [],
   "source": [
    "print(group5k_3['ratio'].max(),group5k_3['ratio'].min()) # no Portlandite, with Amor-S1\n",
    "group3_upper= group5k_3['ratio'].max()"
   ]
  },
  {
   "cell_type": "code",
   "execution_count": null,
   "id": "a151acda-7af0-4074-a712-12963cabd2ad",
   "metadata": {},
   "outputs": [],
   "source": []
  },
  {
   "cell_type": "code",
   "execution_count": null,
   "id": "e0862e0a-0b79-4052-95c3-e508f5d6b736",
   "metadata": {},
   "outputs": [],
   "source": [
    "## Devided 3 groups which are based on the Data distribution, particularly pH distribution\n",
    "# ratio of 1.65 is based on 500-dataset. it seems that 1.60 is better based on 5K-dataset.\n",
    "#This suggests that more data near to the boundary, more accurate the line can be determined\n",
    "group1 = data[data['ratio']>=group1_low]  # with Portlandite, no Amor-S1\n",
    "group2 = data[(data['ratio']<=group2_upper) & (data['ratio']>=group2_low)]  # no Portlandite, no Amor-S1\n",
    "group3 = data[data['ratio']<=group3_upper]     # no Portlandite, with Amor-S1\n",
    "group5k1 = data5k[data5k['ratio']>=group1_low]  # with Portlandite, no Amor-S1\n",
    "group5k2 = data5k[(group2_low<=data5k['ratio']) & (data5k['ratio']<=group2_upper)]  # no Portlandite, no Amor-S1\n",
    "group5k3 = data5k[data5k['ratio']<=group3_upper]    # no Portlandite, with Amor-S1"
   ]
  },
  {
   "cell_type": "code",
   "execution_count": null,
   "id": "a95d654e-b203-448c-af7d-1e76a279abc2",
   "metadata": {},
   "outputs": [],
   "source": [
    "from sklearn.model_selection import train_test_split"
   ]
  },
  {
   "cell_type": "code",
   "execution_count": null,
   "id": "4fc8bc90-c059-4f4b-bcba-cb292ef4b31f",
   "metadata": {},
   "outputs": [],
   "source": [
    "### Output the trainning dataset for dataset5K\n",
    "group1_XY_train,group1_XY_test = train_test_split(group5k1.values,test_size=0.2, train_size=0.8,shuffle=True)\n",
    "group2_XY_train,group2_XY_test = train_test_split(group5k2.values,test_size=0.2, train_size=0.8,shuffle=True)\n",
    "group3_XY_train,group3_XY_test = train_test_split(group5k3.values,test_size=0.2, train_size=0.8,shuffle=True)\n",
    "test_XY=np.concatenate((group1_XY_test,group2_XY_test,group3_XY_test))\n",
    "### Save the data to local drive\n",
    "testDF = pd.DataFrame(test_XY,columns=data.columns)\n",
    "group1DF_train = pd.DataFrame(group1_XY_train,columns=data.columns)\n",
    "group2DF_train = pd.DataFrame(group2_XY_train,columns=data.columns)\n",
    "group3DF_train = pd.DataFrame(group3_XY_train,columns=data.columns)\n",
    "\n",
    "\n",
    "## exclude the ratio column\n",
    "testDF.loc[:,testDF.columns!='ratio'].to_csv('dataset5K_test.csv',index=False)\n",
    "group1DF_train.loc[:,group1DF_train.columns!='ratio'].to_csv('Group5K1_trainning_dataset.csv',index=False)\n",
    "group2DF_train.loc[:,group2DF_train.columns!='ratio'].to_csv('Group5K2_trainning_dataset.csv',index=False)\n",
    "group3DF_train.loc[:,group3DF_train.columns!='ratio'].to_csv('Group5K3_trainning_dataset.csv',index=False)\n",
    "\n",
    "\n"
   ]
  },
  {
   "cell_type": "code",
   "execution_count": null,
   "id": "acc8b88b-be25-45ab-b354-373923281370",
   "metadata": {},
   "outputs": [],
   "source": [
    "### This dataset will be saved for testing the models\n"
   ]
  },
  {
   "cell_type": "code",
   "execution_count": null,
   "id": "d9275b6b-5892-4a69-85c8-775d277d552c",
   "metadata": {},
   "outputs": [],
   "source": [
    "group1_XY_train,group1_XY_test = train_test_split(group1.values,test_size=0.2, train_size=0.8,shuffle=True)\n",
    "group2_XY_train,group2_XY_test = train_test_split(group2.values,test_size=0.2, train_size=0.8,shuffle=True)\n",
    "group3_XY_train,group3_XY_test = train_test_split(group3.values,test_size=0.2, train_size=0.8,shuffle=True)\n",
    "\n",
    "test_XY=np.concatenate((group1_XY_test,group2_XY_test,group3_XY_test))\n",
    "### Save the data to local drive\n",
    "testDF = pd.DataFrame(test_XY,columns=data.columns)\n",
    "group1DF_train = pd.DataFrame(group1_XY_train,columns=data.columns)\n",
    "group2DF_train = pd.DataFrame(group2_XY_train,columns=data.columns)\n",
    "group3DF_train = pd.DataFrame(group3_XY_train,columns=data.columns)\n",
    "## exclude the ratio column\n",
    "testDF.loc[:,testDF.columns!='ratio'].to_csv('dataset5H_test.csv',index=False)\n",
    "group1DF_train.loc[:,group1DF_train.columns!='ratio'].to_csv('Group5H1_trainning_dataset.csv',index=False)\n",
    "group2DF_train.loc[:,group2DF_train.columns!='ratio'].to_csv('Group5H2_trainning_dataset.csv',index=False)\n",
    "group3DF_train.loc[:,group3DF_train.columns!='ratio'].to_csv('Group5H3_trainning_dataset.csv',index=False)\n"
   ]
  },
  {
   "cell_type": "code",
   "execution_count": null,
   "id": "26e5fab7-6c6d-4107-aee5-61c91a0f7289",
   "metadata": {},
   "outputs": [],
   "source": []
  },
  {
   "cell_type": "code",
   "execution_count": null,
   "id": "d128b323-4ceb-4431-9c04-f6e2a8f13913",
   "metadata": {},
   "outputs": [],
   "source": [
    "### Visualizing the three groups \n",
    "fig, ax =plt.subplots(figsize=(12,8))\n",
    "x1= np.linspace(0.0,0.9,30);\n",
    "y1 = 0+group3_upper*x1\n",
    "x2= np.linspace(0.0,0.9,30);\n",
    "y2 = 0+group1_low*x2\n",
    "#ax.plot(data5k['b(SiO2)'].values,data5k['b(CaO)'].values,'b.',markerfacecolor = 'tab:olive',markeredgecolor ='darkblue',markeredgewidth=0.5,label='data5k')\n",
    "ax.plot(group5k1['b(SiO2)'].values,group5k1['b(CaO)'].values,'bo',markerfacecolor = 'tab:olive',markeredgecolor ='darkblue',markeredgewidth=0.5,label='group5k1')\n",
    "ax.plot(group5k2['b(SiO2)'].values,group5k2['b(CaO)'].values,'bo',markerfacecolor = 'c',markeredgecolor ='b',markeredgewidth=0.5,label='group5k2')\n",
    "ax.plot(group5k3['b(SiO2)'].values,group5k3['b(CaO)'].values,'g^',markerfacecolor = 'm',markeredgecolor ='m',markeredgewidth=1,label='group5k3')\n",
    "\n",
    "ax.plot(group1['b(SiO2)'].values,group1['b(CaO)'].values,'bo',markerfacecolor = 'tab:olive',markeredgecolor ='darkblue',markeredgewidth=0.5,label='group5H1')\n",
    "ax.plot(group2['b(SiO2)'].values,group2['b(CaO)'].values,'bo',markerfacecolor = 'c',markeredgecolor ='b',markeredgewidth=0.5,label='group5H2')\n",
    "ax.plot(group3['b(SiO2)'].values,group3['b(CaO)'].values,'g^',markerfacecolor = 'm',markeredgecolor ='m',markeredgewidth=1,label='group5H3')\n",
    "ax.plot(x1,y1,'r-',lw=2,label ='Line 1:CaO/SiO2 = '+str(group3_upper)[:5])\n",
    "ax.plot(x2,y2,'y-',lw=3,label ='Line 2:CaO/SiO2 = '+str(group1_low)[:5])\n",
    "ax.legend (loc='best',ncol=5)           \n",
    "ax.set_xlim(0,0.9)\n",
    "ax.set_ylim(0,2.2)\n",
    "ax.text(0.1, 1.25, 'no Amor-Si, with Portlandite',fontsize = 20,color = 'brown')\n",
    "ax.text(0.5, 0.62, 'no Amor-Si or Portlandite',fontsize = 20,color = 'k')\n",
    "ax.text(0.35, 0.02, 'with Amor-Si no Portlandite',fontsize = 20,color = 'k')\n",
    "\n",
    "\n",
    "ax.set_xlabel('b(SiO2)')\n",
    "ax.set_ylabel('b(CaO)')\n",
    "\n"
   ]
  },
  {
   "cell_type": "code",
   "execution_count": null,
   "id": "ab73f5ee-344a-4c9a-949e-aa71e70d1623",
   "metadata": {},
   "outputs": [],
   "source": []
  }
 ],
 "metadata": {
  "kernelspec": {
   "display_name": "Python 3 (ipykernel)",
   "language": "python",
   "name": "python3"
  },
  "language_info": {
   "codemirror_mode": {
    "name": "ipython",
    "version": 3
   },
   "file_extension": ".py",
   "mimetype": "text/x-python",
   "name": "python",
   "nbconvert_exporter": "python",
   "pygments_lexer": "ipython3",
   "version": "3.9.13"
  }
 },
 "nbformat": 4,
 "nbformat_minor": 5
}
