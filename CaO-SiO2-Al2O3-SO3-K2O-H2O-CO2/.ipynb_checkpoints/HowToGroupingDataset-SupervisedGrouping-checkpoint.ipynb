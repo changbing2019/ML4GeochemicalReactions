{
 "cells": [
  {
   "cell_type": "code",
   "execution_count": 1,
   "id": "372452d9-61bf-4f3a-889d-e882c8bc630a",
   "metadata": {},
   "outputs": [],
   "source": [
    "import pickle"
   ]
  },
  {
   "cell_type": "code",
   "execution_count": 2,
   "id": "b9eb22aa-32a2-459b-a631-4883eef866fe",
   "metadata": {},
   "outputs": [],
   "source": [
    "import matplotlib.pyplot as plt\n",
    "import matplotlib as mpl\n",
    "\n",
    "import numpy as np\n",
    "%matplotlib inline\n",
    "import pandas as pd"
   ]
  },
  {
   "cell_type": "code",
   "execution_count": 3,
   "id": "1a08a9d5-8101-43f1-998c-e1222ed6be70",
   "metadata": {},
   "outputs": [],
   "source": [
    "import os, glob\n",
    "import seaborn as sns\n",
    "sns.set(style=\"darkgrid\")"
   ]
  },
  {
   "cell_type": "code",
   "execution_count": 4,
   "id": "b563500e-4f3a-45c3-be9a-14d76e59d501",
   "metadata": {},
   "outputs": [],
   "source": [
    "from IPython.display import display, HTML, Image"
   ]
  },
  {
   "cell_type": "code",
   "execution_count": 5,
   "id": "bd2300ed-d856-4150-aaf6-2e208ca6f224",
   "metadata": {},
   "outputs": [],
   "source": [
    "import plotly\n",
    "import plotly.express as px\n",
    "import plotly.graph_objects as go"
   ]
  },
  {
   "cell_type": "code",
   "execution_count": null,
   "id": "c1f6beca",
   "metadata": {},
   "outputs": [],
   "source": []
  },
  {
   "cell_type": "code",
   "execution_count": 6,
   "id": "02a8e8eb-a986-4062-8759-74e51b8a2b89",
   "metadata": {},
   "outputs": [],
   "source": [
    "#data5H =pd.read_csv('15_PCc_02_LHS_500_54854_01_s1_G.csv')\n",
    "data50K =pd.read_csv('35_SCc_02_LHS_50000_54854_01_s1_G.csv')\n",
    "#data50K =pd.read_csv('15_PCc_02_LHS_50000_54854_01_s1_G.csv')\n",
    "#data5k =pd.read_csv(r'F:\\ML4ChemcialReactions\\chemical5K\\10_PC_02_LHS_5000_54854_01_s1_G.csv')\n"
   ]
  },
  {
   "cell_type": "code",
   "execution_count": 7,
   "id": "7b6ece0e-7aa0-41b0-8120-d41637ccdc74",
   "metadata": {},
   "outputs": [],
   "source": [
    "### Remove the space from the column names\n",
    "#data5H.columns =[col.strip() for col in data5H.columns]\n",
    "data50K.columns =[col.strip() for col in data50K.columns]\n",
    "#data50K.columns =[col.strip() for col in data50K.columns]\n",
    "\n"
   ]
  },
  {
   "cell_type": "code",
   "execution_count": 9,
   "id": "763e21a9-e47c-4b95-880d-39b1873faee5",
   "metadata": {},
   "outputs": [
    {
     "data": {
      "text/plain": [
       "Index(['T', 'CaO', 'SiO2', 'Al2O3', 'SO3', 'K2O', 'CO2', 'H2O', 'pH',\n",
       "       'MassWater', 'Ca_aq', 'Si_aq', 'Al_aq', 'S_aq', 'K_aq', 'C_aq', 'O_aq',\n",
       "       'H_aq', 'Ca_s', 'Si_s', 'Al_s', 'S_s', 'K_s', 'C_s', 'O_s', 'H_s',\n",
       "       'Portlandite', 'AmorfSi', 'Gibbsite', 'Katoite', 'Monosulfate',\n",
       "       'Gypsum', 'Ettringite', 'Straetlingite', 'Chabazite', 'Calcite',\n",
       "       'Hemicarbonate', 'Monocarbonate', 'Thaumasite', 'mETss', 'Al_ET_ss',\n",
       "       'Ca_ET_ss', 'S_ET_ss', 'C_ET_ss', 'H2O_ET_ss', 'mCSHQ', 'Ca_ss',\n",
       "       'Si_ss', 'K_ss', 'H2O_ss', 'V_s', 'Gel_water'],\n",
       "      dtype='object')"
      ]
     },
     "execution_count": 9,
     "metadata": {},
     "output_type": "execute_result"
    }
   ],
   "source": [
    "data50K.columns"
   ]
  },
  {
   "cell_type": "markdown",
   "id": "5124c89e",
   "metadata": {},
   "source": [
    "## Label the dataset based on the minerals"
   ]
  },
  {
   "cell_type": "code",
   "execution_count": 10,
   "id": "49c3c02d",
   "metadata": {},
   "outputs": [],
   "source": [
    "for mineral in ['Portlandite', 'AmorfSi', 'Gibbsite', 'Katoite', 'Monosulfate',\n",
    "       'Gypsum', 'Ettringite', 'Straetlingite', 'Chabazite', 'Calcite',\n",
    "       'Hemicarbonate', 'Monocarbonate', 'Thaumasite']:\n",
    "    conditions = [\n",
    "         (data50K[mineral]>0),\n",
    "         (data50K[mineral]==0)] \n",
    "    values = [mineral, 'No'+mineral]\n",
    "    data50K[mineral+'_stat'] = np.select(conditions, values)    \n",
    "         \n",
    "    "
   ]
  },
  {
   "cell_type": "code",
   "execution_count": 11,
   "id": "f8971ad5",
   "metadata": {},
   "outputs": [],
   "source": [
    "colStats= [col for col in data50K.columns if '_stat' in col]\n",
    "data50K['group'] = data50K[colStats].agg('-'.join, axis=1)"
   ]
  },
  {
   "cell_type": "code",
   "execution_count": 12,
   "id": "893002d0",
   "metadata": {},
   "outputs": [
    {
     "data": {
      "text/plain": [
       "array(['NoPortlandite-NoAmorfSi-Gibbsite-NoKatoite-NoMonosulfate-NoGypsum-NoEttringite-Straetlingite-NoChabazite-Calcite-NoHemicarbonate-NoMonocarbonate-Thaumasite',\n",
       "       'NoPortlandite-NoAmorfSi-Gibbsite-NoKatoite-NoMonosulfate-NoGypsum-NoEttringite-NoStraetlingite-Chabazite-Calcite-NoHemicarbonate-NoMonocarbonate-Thaumasite',\n",
       "       'NoPortlandite-NoAmorfSi-Gibbsite-NoKatoite-NoMonosulfate-NoGypsum-NoEttringite-NoStraetlingite-NoChabazite-Calcite-NoHemicarbonate-NoMonocarbonate-Thaumasite',\n",
       "       'NoPortlandite-NoAmorfSi-NoGibbsite-NoKatoite-NoMonosulfate-NoGypsum-NoEttringite-Straetlingite-NoChabazite-Calcite-NoHemicarbonate-NoMonocarbonate-NoThaumasite',\n",
       "       'NoPortlandite-NoAmorfSi-NoGibbsite-NoKatoite-NoMonosulfate-NoGypsum-NoEttringite-Straetlingite-NoChabazite-Calcite-NoHemicarbonate-NoMonocarbonate-Thaumasite',\n",
       "       'Portlandite-NoAmorfSi-NoGibbsite-NoKatoite-NoMonosulfate-NoGypsum-NoEttringite-NoStraetlingite-NoChabazite-Calcite-NoHemicarbonate-NoMonocarbonate-NoThaumasite',\n",
       "       'NoPortlandite-NoAmorfSi-NoGibbsite-NoKatoite-NoMonosulfate-NoGypsum-NoEttringite-NoStraetlingite-NoChabazite-Calcite-NoHemicarbonate-NoMonocarbonate-NoThaumasite',\n",
       "       'Portlandite-NoAmorfSi-NoGibbsite-NoKatoite-NoMonosulfate-NoGypsum-NoEttringite-NoStraetlingite-NoChabazite-NoCalcite-Hemicarbonate-Monocarbonate-NoThaumasite',\n",
       "       'NoPortlandite-AmorfSi-NoGibbsite-NoKatoite-NoMonosulfate-NoGypsum-NoEttringite-NoStraetlingite-Chabazite-Calcite-NoHemicarbonate-NoMonocarbonate-Thaumasite',\n",
       "       'Portlandite-NoAmorfSi-NoGibbsite-NoKatoite-Monosulfate-NoGypsum-NoEttringite-NoStraetlingite-NoChabazite-NoCalcite-Hemicarbonate-Monocarbonate-NoThaumasite',\n",
       "       'Portlandite-NoAmorfSi-NoGibbsite-Katoite-Monosulfate-NoGypsum-NoEttringite-NoStraetlingite-NoChabazite-NoCalcite-Hemicarbonate-Monocarbonate-NoThaumasite',\n",
       "       'NoPortlandite-NoAmorfSi-NoGibbsite-NoKatoite-Monosulfate-NoGypsum-NoEttringite-NoStraetlingite-NoChabazite-NoCalcite-Hemicarbonate-Monocarbonate-NoThaumasite',\n",
       "       'NoPortlandite-NoAmorfSi-NoGibbsite-NoKatoite-NoMonosulfate-NoGypsum-NoEttringite-Straetlingite-NoChabazite-NoCalcite-NoHemicarbonate-NoMonocarbonate-NoThaumasite',\n",
       "       'NoPortlandite-NoAmorfSi-NoGibbsite-NoKatoite-Monosulfate-NoGypsum-NoEttringite-NoStraetlingite-NoChabazite-NoCalcite-NoHemicarbonate-NoMonocarbonate-NoThaumasite',\n",
       "       'NoPortlandite-NoAmorfSi-NoGibbsite-NoKatoite-Monosulfate-NoGypsum-NoEttringite-Straetlingite-NoChabazite-NoCalcite-NoHemicarbonate-NoMonocarbonate-NoThaumasite',\n",
       "       'Portlandite-NoAmorfSi-NoGibbsite-NoKatoite-NoMonosulfate-NoGypsum-NoEttringite-NoStraetlingite-NoChabazite-NoCalcite-NoHemicarbonate-NoMonocarbonate-NoThaumasite',\n",
       "       'NoPortlandite-NoAmorfSi-NoGibbsite-NoKatoite-NoMonosulfate-NoGypsum-NoEttringite-NoStraetlingite-Chabazite-Calcite-NoHemicarbonate-NoMonocarbonate-Thaumasite',\n",
       "       'NoPortlandite-NoAmorfSi-NoGibbsite-NoKatoite-NoMonosulfate-NoGypsum-NoEttringite-NoStraetlingite-NoChabazite-NoCalcite-Hemicarbonate-Monocarbonate-NoThaumasite',\n",
       "       'NoPortlandite-NoAmorfSi-NoGibbsite-NoKatoite-Monosulfate-NoGypsum-NoEttringite-Straetlingite-NoChabazite-NoCalcite-Hemicarbonate-Monocarbonate-NoThaumasite',\n",
       "       'NoPortlandite-AmorfSi-Gibbsite-NoKatoite-NoMonosulfate-NoGypsum-NoEttringite-NoStraetlingite-Chabazite-Calcite-NoHemicarbonate-NoMonocarbonate-Thaumasite',\n",
       "       'NoPortlandite-NoAmorfSi-NoGibbsite-Katoite-Monosulfate-NoGypsum-NoEttringite-Straetlingite-NoChabazite-NoCalcite-Hemicarbonate-Monocarbonate-NoThaumasite',\n",
       "       'NoPortlandite-NoAmorfSi-NoGibbsite-NoKatoite-NoMonosulfate-NoGypsum-NoEttringite-NoStraetlingite-NoChabazite-NoCalcite-NoHemicarbonate-NoMonocarbonate-NoThaumasite',\n",
       "       'NoPortlandite-NoAmorfSi-NoGibbsite-Katoite-Monosulfate-NoGypsum-NoEttringite-NoStraetlingite-NoChabazite-NoCalcite-Hemicarbonate-Monocarbonate-NoThaumasite',\n",
       "       'Portlandite-NoAmorfSi-NoGibbsite-NoKatoite-Monosulfate-NoGypsum-Ettringite-NoStraetlingite-NoChabazite-NoCalcite-Hemicarbonate-Monocarbonate-NoThaumasite'],\n",
       "      dtype=object)"
      ]
     },
     "execution_count": 12,
     "metadata": {},
     "output_type": "execute_result"
    }
   ],
   "source": [
    "data50K['group'].unique()"
   ]
  },
  {
   "cell_type": "markdown",
   "id": "62b0c159",
   "metadata": {},
   "source": [
    "## Supervised grouping with ML models"
   ]
  },
  {
   "cell_type": "code",
   "execution_count": 13,
   "id": "3333dd54",
   "metadata": {},
   "outputs": [],
   "source": [
    "from sklearn.ensemble import RandomForestClassifier\n",
    "from sklearn.model_selection import train_test_split"
   ]
  },
  {
   "cell_type": "code",
   "execution_count": 29,
   "id": "c3ed1210",
   "metadata": {},
   "outputs": [],
   "source": [
    "# metrics are used to find accuracy or error\n",
    "from sklearn import metrics \n",
    "from sklearn.preprocessing import StandardScaler"
   ]
  },
  {
   "cell_type": "code",
   "execution_count": 30,
   "id": "f02d5a76",
   "metadata": {},
   "outputs": [
    {
     "data": {
      "text/plain": [
       "Index(['T', 'CaO', 'SiO2', 'Al2O3', 'SO3', 'K2O', 'CO2', 'H2O', 'pH',\n",
       "       'MassWater', 'Ca_aq', 'Si_aq', 'Al_aq', 'S_aq', 'K_aq', 'C_aq', 'O_aq',\n",
       "       'H_aq', 'Ca_s', 'Si_s', 'Al_s', 'S_s', 'K_s', 'C_s', 'O_s', 'H_s',\n",
       "       'Portlandite', 'AmorfSi', 'Gibbsite', 'Katoite', 'Monosulfate',\n",
       "       'Gypsum', 'Ettringite', 'Straetlingite', 'Chabazite', 'Calcite',\n",
       "       'Hemicarbonate', 'Monocarbonate', 'Thaumasite', 'mETss', 'Al_ET_ss',\n",
       "       'Ca_ET_ss', 'S_ET_ss', 'C_ET_ss', 'H2O_ET_ss', 'mCSHQ', 'Ca_ss',\n",
       "       'Si_ss', 'K_ss', 'H2O_ss', 'V_s', 'Gel_water', 'Portlandite_stat',\n",
       "       'AmorfSi_stat', 'Gibbsite_stat', 'Katoite_stat', 'Monosulfate_stat',\n",
       "       'Gypsum_stat', 'Ettringite_stat', 'Straetlingite_stat',\n",
       "       'Chabazite_stat', 'Calcite_stat', 'Hemicarbonate_stat',\n",
       "       'Monocarbonate_stat', 'Thaumasite_stat', 'group'],\n",
       "      dtype='object')"
      ]
     },
     "execution_count": 30,
     "metadata": {},
     "output_type": "execute_result"
    }
   ],
   "source": [
    "data50K.columns"
   ]
  },
  {
   "cell_type": "code",
   "execution_count": 31,
   "id": "c69634a6",
   "metadata": {},
   "outputs": [],
   "source": [
    "inputVars= ['CaO', 'SiO2', 'Al2O3', 'SO3', 'K2O', 'CO2', 'H2O']\n",
    "targVars = ['group']"
   ]
  },
  {
   "cell_type": "code",
   "execution_count": 32,
   "id": "25574143",
   "metadata": {},
   "outputs": [],
   "source": [
    "X = data50K[inputVars].values\n",
    "y = data50K[targVars].values"
   ]
  },
  {
   "cell_type": "code",
   "execution_count": 33,
   "id": "c18687fc",
   "metadata": {},
   "outputs": [],
   "source": [
    "scaler = StandardScaler().fit(X)\n",
    "X_scaled =  scaler.transform(X)"
   ]
  },
  {
   "cell_type": "code",
   "execution_count": 34,
   "id": "298fbbf5",
   "metadata": {},
   "outputs": [],
   "source": [
    "# i.e. 80 % training dataset and 20 % test datasets\n",
    "X_train, X_test, y_train, y_test = train_test_split(X_scaled, y, test_size = 0.20)"
   ]
  },
  {
   "cell_type": "code",
   "execution_count": null,
   "id": "c8240063",
   "metadata": {},
   "outputs": [],
   "source": []
  },
  {
   "cell_type": "code",
   "execution_count": 35,
   "id": "f2c3b334",
   "metadata": {},
   "outputs": [
    {
     "name": "stderr",
     "output_type": "stream",
     "text": [
      "C:\\Users\\Cyang.MDM-MOD1-D1\\AppData\\Local\\Temp\\ipykernel_17456\\4145832969.py:6: DataConversionWarning:\n",
      "\n",
      "A column-vector y was passed when a 1d array was expected. Please change the shape of y to (n_samples,), for example using ravel().\n",
      "\n"
     ]
    },
    {
     "name": "stdout",
     "output_type": "stream",
     "text": [
      "ACCURACY OF THE MODEL:  0.8973\n"
     ]
    }
   ],
   "source": [
    "# creating a RF classifier\n",
    "clf = RandomForestClassifier(n_estimators = 2000) \n",
    " \n",
    "# Training the model on the training dataset\n",
    "# fit function is used to train the model using the training sets as parameters\n",
    "clf.fit(X_train, y_train)\n",
    " \n",
    "# performing predictions on the test dataset\n",
    "y_pred = clf.predict(X_test)\n",
    " \n",
    "\n",
    "print(\"ACCURACY OF THE MODEL: \", metrics.accuracy_score(y_test, y_pred))"
   ]
  },
  {
   "cell_type": "code",
   "execution_count": null,
   "id": "aaa153c4",
   "metadata": {},
   "outputs": [
    {
     "name": "stderr",
     "output_type": "stream",
     "text": [
      "C:\\Users\\Cyang.MDM-MOD1-D1\\AppData\\Local\\Temp\\ipykernel_17456\\1062911350.py:6: DataConversionWarning:\n",
      "\n",
      "A column-vector y was passed when a 1d array was expected. Please change the shape of y to (n_samples,), for example using ravel().\n",
      "\n"
     ]
    }
   ],
   "source": [
    "# creating a RF classifier\n",
    "clf = RandomForestClassifier(n_estimators = 4000) \n",
    " \n",
    "# Training the model on the training dataset\n",
    "# fit function is used to train the model using the training sets as parameters\n",
    "clf.fit(X_train, y_train)\n",
    " \n",
    "# performing predictions on the test dataset\n",
    "y_pred = clf.predict(X_test)\n",
    " \n",
    "\n",
    "print(\"ACCURACY OF THE MODEL: \", metrics.accuracy_score(y_test, y_pred))"
   ]
  },
  {
   "cell_type": "code",
   "execution_count": null,
   "id": "35abc276",
   "metadata": {},
   "outputs": [],
   "source": [
    "\n"
   ]
  },
  {
   "cell_type": "raw",
   "id": "f2b197db",
   "metadata": {},
   "source": [
    "\n",
    "fig =px.scatter_ternary(X_test, a=\"CaO\", b=\"SiO2\", c=\"CO2\",color='group')\n",
    "fig.show()"
   ]
  },
  {
   "cell_type": "raw",
   "id": "a1fccf1e",
   "metadata": {},
   "source": [
    "fig =px.scatter_ternary(X_test, a=\"CaO\", b=\"SiO2\", c=\"CO2\",color='pred')\n",
    "fig.show()"
   ]
  },
  {
   "cell_type": "code",
   "execution_count": null,
   "id": "efb8f310",
   "metadata": {},
   "outputs": [],
   "source": []
  },
  {
   "cell_type": "code",
   "execution_count": null,
   "id": "30fd1c47",
   "metadata": {},
   "outputs": [],
   "source": []
  },
  {
   "cell_type": "code",
   "execution_count": null,
   "id": "f745bdab",
   "metadata": {},
   "outputs": [],
   "source": []
  },
  {
   "cell_type": "code",
   "execution_count": null,
   "id": "a316659b",
   "metadata": {},
   "outputs": [],
   "source": []
  },
  {
   "cell_type": "code",
   "execution_count": null,
   "id": "f34f9bcf",
   "metadata": {},
   "outputs": [],
   "source": []
  },
  {
   "cell_type": "code",
   "execution_count": null,
   "id": "07032b8f",
   "metadata": {},
   "outputs": [],
   "source": []
  }
 ],
 "metadata": {
  "kernelspec": {
   "display_name": "Python 3 (ipykernel)",
   "language": "python",
   "name": "python3"
  },
  "language_info": {
   "codemirror_mode": {
    "name": "ipython",
    "version": 3
   },
   "file_extension": ".py",
   "mimetype": "text/x-python",
   "name": "python",
   "nbconvert_exporter": "python",
   "pygments_lexer": "ipython3",
   "version": "3.9.13"
  }
 },
 "nbformat": 4,
 "nbformat_minor": 5
}
