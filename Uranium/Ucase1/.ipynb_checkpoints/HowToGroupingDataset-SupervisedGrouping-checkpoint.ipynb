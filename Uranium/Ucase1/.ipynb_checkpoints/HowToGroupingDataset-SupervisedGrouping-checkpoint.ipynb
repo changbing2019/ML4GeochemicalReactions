{
 "cells": [
  {
   "cell_type": "code",
   "execution_count": null,
   "id": "372452d9-61bf-4f3a-889d-e882c8bc630a",
   "metadata": {},
   "outputs": [],
   "source": [
    "import pickle"
   ]
  },
  {
   "cell_type": "code",
   "execution_count": null,
   "id": "b9eb22aa-32a2-459b-a631-4883eef866fe",
   "metadata": {},
   "outputs": [],
   "source": [
    "import matplotlib.pyplot as plt\n",
    "import matplotlib as mpl\n",
    "\n",
    "import numpy as np\n",
    "%matplotlib inline\n",
    "import pandas as pd"
   ]
  },
  {
   "cell_type": "code",
   "execution_count": null,
   "id": "1a08a9d5-8101-43f1-998c-e1222ed6be70",
   "metadata": {},
   "outputs": [],
   "source": [
    "import os, glob\n",
    "import seaborn as sns\n",
    "sns.set(style=\"darkgrid\")"
   ]
  },
  {
   "cell_type": "code",
   "execution_count": null,
   "id": "b563500e-4f3a-45c3-be9a-14d76e59d501",
   "metadata": {},
   "outputs": [],
   "source": [
    "from IPython.display import display, HTML, Image"
   ]
  },
  {
   "cell_type": "code",
   "execution_count": null,
   "id": "bd2300ed-d856-4150-aaf6-2e208ca6f224",
   "metadata": {},
   "outputs": [],
   "source": [
    "import plotly\n",
    "import plotly.express as px\n",
    "import plotly.graph_objects as go"
   ]
  },
  {
   "cell_type": "code",
   "execution_count": null,
   "id": "c1f6beca",
   "metadata": {},
   "outputs": [],
   "source": []
  },
  {
   "cell_type": "code",
   "execution_count": null,
   "id": "02a8e8eb-a986-4062-8759-74e51b8a2b89",
   "metadata": {},
   "outputs": [],
   "source": [
    "#data5H =pd.read_csv('15_PCc_02_LHS_500_54854_01_s1_G.csv')\n",
    "InsFile='10_PMU_02_LHS_500000_54854_02_t_P.dat'\n",
    "data = pd.read_csv(InsFile,sep ='\\t')"
   ]
  },
  {
   "cell_type": "code",
   "execution_count": null,
   "id": "7b6ece0e-7aa0-41b0-8120-d41637ccdc74",
   "metadata": {},
   "outputs": [],
   "source": [
    "data.columns =[col.strip() for col in data.columns]\n",
    "data.columns =[col.strip() for col in data.columns]\n",
    "data =data.iloc[:-1,:-1]"
   ]
  },
  {
   "cell_type": "code",
   "execution_count": null,
   "id": "763e21a9-e47c-4b95-880d-39b1873faee5",
   "metadata": {},
   "outputs": [],
   "source": []
  },
  {
   "cell_type": "markdown",
   "id": "5124c89e",
   "metadata": {},
   "source": [
    "## Label the dataset based\n",
    "\n",
    "\n",
    "### Four gorups:\n",
    "\n",
    "### Group1: acid with metaschoepite\n",
    "### Group2: acid without metaschoepite\n",
    "### Group3: base with metaschoepite\n",
    "### Group4: base without metaschoepite"
   ]
  },
  {
   "cell_type": "code",
   "execution_count": null,
   "id": "13d39ae5",
   "metadata": {},
   "outputs": [],
   "source": [
    "conds = [((data['metaschoepite']>0) & (data['totAcid']>1.0e-9)),\n",
    "              ((data['metaschoepite']==0) & (data['totAcid']>1.0e-9)),\n",
    "              ((data['metaschoepite']>0) & (data['totAcid']<=1.0e-9)),\n",
    "              ((data['metaschoepite']==0) & (data['totAcid']<=1.0e-9)),\n",
    "]\n",
    "groups = ['group1','group2','group3','group4']\n",
    "\n",
    "data['group'] =np.select(conds, groups)\n"
   ]
  },
  {
   "cell_type": "code",
   "execution_count": null,
   "id": "f8971ad5",
   "metadata": {},
   "outputs": [],
   "source": []
  },
  {
   "cell_type": "code",
   "execution_count": null,
   "id": "893002d0",
   "metadata": {},
   "outputs": [],
   "source": []
  },
  {
   "cell_type": "markdown",
   "id": "62b0c159",
   "metadata": {},
   "source": [
    "## Supervised grouping with ML models"
   ]
  },
  {
   "cell_type": "code",
   "execution_count": null,
   "id": "3333dd54",
   "metadata": {},
   "outputs": [],
   "source": [
    "from sklearn.ensemble import RandomForestClassifier\n",
    "from sklearn.model_selection import train_test_split"
   ]
  },
  {
   "cell_type": "code",
   "execution_count": null,
   "id": "c3ed1210",
   "metadata": {},
   "outputs": [],
   "source": [
    "# metrics are used to find accuracy or error\n",
    "from sklearn import metrics \n",
    "from sklearn.preprocessing import StandardScaler"
   ]
  },
  {
   "cell_type": "code",
   "execution_count": null,
   "id": "f02d5a76",
   "metadata": {},
   "outputs": [],
   "source": [
    "data.columns"
   ]
  },
  {
   "cell_type": "code",
   "execution_count": null,
   "id": "c69634a6",
   "metadata": {},
   "outputs": [],
   "source": [
    "inputVars= ['totU', 'totAcid', 'totBase']\n",
    "targVars = ['group']"
   ]
  },
  {
   "cell_type": "code",
   "execution_count": null,
   "id": "25574143",
   "metadata": {},
   "outputs": [],
   "source": [
    "X = data[inputVars].values\n",
    "y = data[targVars].values"
   ]
  },
  {
   "cell_type": "code",
   "execution_count": null,
   "id": "5114a21f",
   "metadata": {},
   "outputs": [],
   "source": [
    "scaler = StandardScaler().fit(X)\n",
    "X_scaled =  scaler.transform(X)"
   ]
  },
  {
   "cell_type": "code",
   "execution_count": null,
   "id": "135378e5",
   "metadata": {},
   "outputs": [],
   "source": [
    "pickle.dump(scaler, open('scaler_grouping.pkl', 'wb'))\n",
    "print(scaler.__dict__)\n"
   ]
  },
  {
   "cell_type": "code",
   "execution_count": null,
   "id": "298fbbf5",
   "metadata": {},
   "outputs": [],
   "source": [
    "# i.e. 80 % training dataset and 20 % test datasets\n",
    "X_train, X_test, y_train, y_test = train_test_split(X_scaled, y, test_size = 0.20)"
   ]
  },
  {
   "cell_type": "code",
   "execution_count": null,
   "id": "c8240063",
   "metadata": {},
   "outputs": [],
   "source": []
  },
  {
   "cell_type": "code",
   "execution_count": null,
   "id": "f2c3b334",
   "metadata": {},
   "outputs": [],
   "source": [
    "# creating a RF classifier\n",
    "clf = RandomForestClassifier(n_estimators = 2000) \n",
    "# Training the model on the training dataset\n",
    "# fit function is used to train the model using the training sets as parameters\n",
    "clf.fit(X_train, y_train.ravel())\n",
    " \n",
    "# performing predictions on the test dataset\n",
    "y_pred = clf.predict(X_test)\n",
    " \n",
    "\n",
    "print(\"ACCURACY OF THE MODEL: \", metrics.accuracy_score(y_test, y_pred))"
   ]
  },
  {
   "cell_type": "code",
   "execution_count": null,
   "id": "35abc276",
   "metadata": {},
   "outputs": [],
   "source": [
    "pickle.dump(clf, open('randomforest_grouping.pkl', 'wb'))"
   ]
  },
  {
   "cell_type": "code",
   "execution_count": null,
   "id": "13b78669",
   "metadata": {},
   "outputs": [],
   "source": []
  },
  {
   "cell_type": "code",
   "execution_count": null,
   "id": "37eff102",
   "metadata": {},
   "outputs": [],
   "source": [
    "## Test with 5K dataset"
   ]
  },
  {
   "cell_type": "code",
   "execution_count": null,
   "id": "723c440e",
   "metadata": {},
   "outputs": [],
   "source": [
    "#data5H =pd.read_csv('15_PCc_02_LHS_500_54854_01_s1_G.csv')\n",
    "InsFile='10_PMU_02_LHS_5000_54854_02_t_P.dat'\n",
    "data5K = pd.read_csv(InsFile,sep ='\\t')\n",
    "data5K.columns =[col.strip() for col in data5K.columns]\n",
    "data5K.columns =[col.strip() for col in data5K.columns]\n",
    "data5K =data5K.iloc[:-1,:-1]\n",
    "\n",
    "conds = [((data5K['metaschoepite']>0) & (data5K['totAcid']>1.0e-9)),\n",
    "              ((data5K['metaschoepite']==0) & (data5K['totAcid']>1.0e-9)),\n",
    "              ((data5K['metaschoepite']>0) & (data5K['totAcid']<=1.0e-9)),\n",
    "              ((data5K['metaschoepite']==0) & (data5K['totAcid']<=1.0e-9)),\n",
    "]\n",
    "groups = ['group1','group2','group3','group4']\n",
    "\n",
    "data5K['group'] =np.select(conds, groups)\n"
   ]
  },
  {
   "cell_type": "code",
   "execution_count": null,
   "id": "efb8f310",
   "metadata": {},
   "outputs": [],
   "source": [
    "X = data5K[inputVars].values\n",
    "y = data5K[targVars].values\n",
    "X_scaled =  scaler.transform(X)\n",
    "y_pred_5K = clf.predict(X_scaled)\n",
    "print(\"ACCURACY OF THE MODEL: \", metrics.accuracy_score(y, y_pred_5K))"
   ]
  },
  {
   "cell_type": "code",
   "execution_count": null,
   "id": "30fd1c47",
   "metadata": {},
   "outputs": [],
   "source": []
  },
  {
   "cell_type": "code",
   "execution_count": null,
   "id": "f745bdab",
   "metadata": {},
   "outputs": [],
   "source": []
  },
  {
   "cell_type": "code",
   "execution_count": null,
   "id": "a316659b",
   "metadata": {},
   "outputs": [],
   "source": []
  },
  {
   "cell_type": "code",
   "execution_count": null,
   "id": "f34f9bcf",
   "metadata": {},
   "outputs": [],
   "source": []
  },
  {
   "cell_type": "code",
   "execution_count": null,
   "id": "07032b8f",
   "metadata": {},
   "outputs": [],
   "source": []
  }
 ],
 "metadata": {
  "kernelspec": {
   "display_name": "Python 3 (ipykernel)",
   "language": "python",
   "name": "python3"
  },
  "language_info": {
   "codemirror_mode": {
    "name": "ipython",
    "version": 3
   },
   "file_extension": ".py",
   "mimetype": "text/x-python",
   "name": "python",
   "nbconvert_exporter": "python",
   "pygments_lexer": "ipython3",
   "version": "3.9.13"
  }
 },
 "nbformat": 4,
 "nbformat_minor": 5
}
